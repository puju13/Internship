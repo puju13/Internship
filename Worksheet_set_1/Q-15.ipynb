{
 "cells": [
  {
   "cell_type": "code",
   "execution_count": 2,
   "id": "737b9b28",
   "metadata": {},
   "outputs": [
    {
     "name": "stdout",
     "output_type": "stream",
     "text": [
      "enter the stringfhdfsjfedndmfsfdysdefhrjg\n",
      "{'f': 6, 'h': 2, 'd': 5, 's': 3, 'j': 2, 'e': 2, 'n': 1, 'm': 1, 'y': 1, 'r': 1, 'g': 1}\n"
     ]
    }
   ],
   "source": [
    "str = input(\"enter the string\")\n",
    "d1 = dict()\n",
    "for char in str:\n",
    "    if char in d1:\n",
    "        d1[char]=d1[char]+1\n",
    "    else:\n",
    "        d1[char]=1\n",
    "print(d1)"
   ]
  },
  {
   "cell_type": "code",
   "execution_count": null,
   "id": "582d708d",
   "metadata": {},
   "outputs": [],
   "source": []
  }
 ],
 "metadata": {
  "kernelspec": {
   "display_name": "Python 3 (ipykernel)",
   "language": "python",
   "name": "python3"
  },
  "language_info": {
   "codemirror_mode": {
    "name": "ipython",
    "version": 3
   },
   "file_extension": ".py",
   "mimetype": "text/x-python",
   "name": "python",
   "nbconvert_exporter": "python",
   "pygments_lexer": "ipython3",
   "version": "3.9.7"
  }
 },
 "nbformat": 4,
 "nbformat_minor": 5
}
