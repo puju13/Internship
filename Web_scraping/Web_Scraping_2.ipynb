{
 "cells": [
  {
   "cell_type": "code",
   "execution_count": 2,
   "id": "f53b0613",
   "metadata": {},
   "outputs": [
    {
     "name": "stdout",
     "output_type": "stream",
     "text": [
      "Requirement already satisfied: selenium in c:\\users\\dell\\anaconda3\\lib\\site-packages (4.4.3)\n",
      "Requirement already satisfied: certifi>=2021.10.8 in c:\\users\\dell\\anaconda3\\lib\\site-packages (from selenium) (2021.10.8)\n",
      "Requirement already satisfied: trio~=0.17 in c:\\users\\dell\\anaconda3\\lib\\site-packages (from selenium) (0.21.0)\n",
      "Requirement already satisfied: urllib3[socks]~=1.26 in c:\\users\\dell\\anaconda3\\lib\\site-packages (from selenium) (1.26.7)\n",
      "Requirement already satisfied: trio-websocket~=0.9 in c:\\users\\dell\\anaconda3\\lib\\site-packages (from selenium) (0.9.2)\n",
      "Requirement already satisfied: sniffio in c:\\users\\dell\\anaconda3\\lib\\site-packages (from trio~=0.17->selenium) (1.2.0)\n",
      "Requirement already satisfied: cffi>=1.14 in c:\\users\\dell\\anaconda3\\lib\\site-packages (from trio~=0.17->selenium) (1.14.6)\n",
      "Requirement already satisfied: outcome in c:\\users\\dell\\anaconda3\\lib\\site-packages (from trio~=0.17->selenium) (1.2.0)\n",
      "Requirement already satisfied: sortedcontainers in c:\\users\\dell\\anaconda3\\lib\\site-packages (from trio~=0.17->selenium) (2.4.0)\n",
      "Requirement already satisfied: idna in c:\\users\\dell\\anaconda3\\lib\\site-packages (from trio~=0.17->selenium) (3.2)\n",
      "Requirement already satisfied: attrs>=19.2.0 in c:\\users\\dell\\anaconda3\\lib\\site-packages (from trio~=0.17->selenium) (21.2.0)\n",
      "Requirement already satisfied: async-generator>=1.9 in c:\\users\\dell\\anaconda3\\lib\\site-packages (from trio~=0.17->selenium) (1.10)\n",
      "Requirement already satisfied: pycparser in c:\\users\\dell\\anaconda3\\lib\\site-packages (from cffi>=1.14->trio~=0.17->selenium) (2.20)\n",
      "Requirement already satisfied: wsproto>=0.14 in c:\\users\\dell\\anaconda3\\lib\\site-packages (from trio-websocket~=0.9->selenium) (1.2.0)\n",
      "Requirement already satisfied: PySocks!=1.5.7,<2.0,>=1.5.6 in c:\\users\\dell\\anaconda3\\lib\\site-packages (from urllib3[socks]~=1.26->selenium) (1.7.1)\n",
      "Requirement already satisfied: h11<1,>=0.9.0 in c:\\users\\dell\\anaconda3\\lib\\site-packages (from wsproto>=0.14->trio-websocket~=0.9->selenium) (0.13.0)\n"
     ]
    }
   ],
   "source": [
    "!pip install selenium"
   ]
  },
  {
   "cell_type": "code",
   "execution_count": 3,
   "id": "a7f02dc1",
   "metadata": {},
   "outputs": [],
   "source": [
    "import selenium\n",
    "import pandas as pd\n",
    "from selenium import webdriver\n",
    "from selenium.webdriver.chrome.options import Options\n",
    "import warnings\n",
    "warnings.filterwarnings('ignore')\n",
    "from selenium.common.exceptions import StaleElementReferenceException,NoSuchElementException\n",
    "from selenium.webdriver.common.by import By\n",
    "import time\n",
    "from time import sleep"
   ]
  },
  {
   "cell_type": "code",
   "execution_count": 29,
   "id": "9c0f85b8",
   "metadata": {},
   "outputs": [],
   "source": [
    "# driver connection\n",
    "driver=webdriver.Chrome(r\"D:\\Software\\chromedriver_win32\\chromedriver.exe\")"
   ]
  },
  {
   "cell_type": "code",
   "execution_count": 32,
   "id": "b68d168c",
   "metadata": {},
   "outputs": [],
   "source": [
    "#Q-1\n",
    "driver.get(\"https://www.naukri.com/\")"
   ]
  },
  {
   "cell_type": "code",
   "execution_count": 18,
   "id": "f469e354",
   "metadata": {},
   "outputs": [],
   "source": [
    "designation=driver.find_element(By.CLASS_NAME,\"suggestor-input \")\n",
    "designation.send_keys('Data Analyst')"
   ]
  },
  {
   "cell_type": "code",
   "execution_count": 19,
   "id": "8ede379f",
   "metadata": {},
   "outputs": [],
   "source": [
    "location=driver.find_element(By.XPATH,\"/html/body/div[1]/div[6]/div/div/div[5]/div/div/div/input\")\n",
    "location.send_keys('Bangalore')"
   ]
  },
  {
   "cell_type": "code",
   "execution_count": 20,
   "id": "f12b253a",
   "metadata": {},
   "outputs": [],
   "source": [
    "search=driver.find_element(By.CLASS_NAME,\"qsbSubmit\")\n",
    "search.click()"
   ]
  },
  {
   "cell_type": "code",
   "execution_count": 21,
   "id": "de5422eb",
   "metadata": {},
   "outputs": [],
   "source": [
    "job_title=[]\n",
    "job_location=[]\n",
    "job_experience=[]\n",
    "company_name=[]\n"
   ]
  },
  {
   "cell_type": "code",
   "execution_count": 22,
   "id": "59c0f97c",
   "metadata": {},
   "outputs": [],
   "source": [
    "#get job titles\n",
    "title_tags=driver.find_elements(By.XPATH,'//a[@class=\"title fw500 ellipsis\"]')\n",
    "for i in title_tags[0:10]:\n",
    "    title=i.text\n",
    "    job_title.append(title)\n",
    "    \n",
    "#get job location\n",
    "location_tags=driver.find_elements(By.XPATH,'//li[@class=\"fleft grey-text br2 placeHolderLi location\"]')\n",
    "for i in location_tags[0:10]:\n",
    "    location=i.text\n",
    "    job_location.append(location) \n",
    "    \n",
    "#get company name\n",
    "company_tags=driver.find_elements(By.XPATH,'//a[@class=\"subTitle ellipsis fleft\"]')\n",
    "for i in company_tags[0:10]:\n",
    "    company=i.text\n",
    "    company_name.append(company)  \n",
    "    \n",
    "#get Job Experience\n",
    "experience_tags=driver.find_elements(By.XPATH,'//li[@class=\"fleft grey-text br2 placeHolderLi experience\"]')\n",
    "for i in experience_tags[0:10]:\n",
    "    experience=i.text\n",
    "    job_experience.append(experience)      \n"
   ]
  },
  {
   "cell_type": "code",
   "execution_count": 25,
   "id": "9e740cbf",
   "metadata": {},
   "outputs": [
    {
     "name": "stdout",
     "output_type": "stream",
     "text": [
      "10 10 10 10\n"
     ]
    }
   ],
   "source": [
    "print(len(job_title),len(job_location),len(company_name),len(job_experience))"
   ]
  },
  {
   "cell_type": "code",
   "execution_count": 26,
   "id": "38482f48",
   "metadata": {},
   "outputs": [
    {
     "data": {
      "text/html": [
       "<div>\n",
       "<style scoped>\n",
       "    .dataframe tbody tr th:only-of-type {\n",
       "        vertical-align: middle;\n",
       "    }\n",
       "\n",
       "    .dataframe tbody tr th {\n",
       "        vertical-align: top;\n",
       "    }\n",
       "\n",
       "    .dataframe thead th {\n",
       "        text-align: right;\n",
       "    }\n",
       "</style>\n",
       "<table border=\"1\" class=\"dataframe\">\n",
       "  <thead>\n",
       "    <tr style=\"text-align: right;\">\n",
       "      <th></th>\n",
       "      <th>Job Title</th>\n",
       "      <th>Location</th>\n",
       "      <th>Company Name</th>\n",
       "      <th>Experience</th>\n",
       "    </tr>\n",
       "  </thead>\n",
       "  <tbody>\n",
       "    <tr>\n",
       "      <th>0</th>\n",
       "      <td>Contractual Hiring For Top MNC || Business Dat...</td>\n",
       "      <td>Bangalore/Bengaluru</td>\n",
       "      <td>TeamLease</td>\n",
       "      <td>5-8 Yrs</td>\n",
       "    </tr>\n",
       "    <tr>\n",
       "      <th>1</th>\n",
       "      <td>Customer Data Analyst</td>\n",
       "      <td>Bangalore/Bengaluru</td>\n",
       "      <td>Oracle</td>\n",
       "      <td>1-3 Yrs</td>\n",
       "    </tr>\n",
       "    <tr>\n",
       "      <th>2</th>\n",
       "      <td>Data Analyst - Decision Science</td>\n",
       "      <td>Bangalore/Bengaluru</td>\n",
       "      <td>Jana Small Finance Bank</td>\n",
       "      <td>3-8 Yrs</td>\n",
       "    </tr>\n",
       "    <tr>\n",
       "      <th>3</th>\n",
       "      <td>Associate Data Analyst</td>\n",
       "      <td>Bangalore/Bengaluru</td>\n",
       "      <td>Optum</td>\n",
       "      <td>2-7 Yrs</td>\n",
       "    </tr>\n",
       "    <tr>\n",
       "      <th>4</th>\n",
       "      <td>Associate Data Analyst</td>\n",
       "      <td>Bangalore/Bengaluru</td>\n",
       "      <td>Optum</td>\n",
       "      <td>1-4 Yrs</td>\n",
       "    </tr>\n",
       "    <tr>\n",
       "      <th>5</th>\n",
       "      <td>Senior Data Analyst</td>\n",
       "      <td>Bangalore/Bengaluru(Domlur)</td>\n",
       "      <td>KrazyBee</td>\n",
       "      <td>3-5 Yrs</td>\n",
       "    </tr>\n",
       "    <tr>\n",
       "      <th>6</th>\n",
       "      <td>Data Analyst</td>\n",
       "      <td>Bangalore/Bengaluru</td>\n",
       "      <td>Novel Office</td>\n",
       "      <td>0-3 Yrs</td>\n",
       "    </tr>\n",
       "    <tr>\n",
       "      <th>7</th>\n",
       "      <td>Women on career break_ Data Analyst</td>\n",
       "      <td>Bangalore/Bengaluru, Hyderabad/Secunderabad</td>\n",
       "      <td>Zinnov Management C</td>\n",
       "      <td>5-10 Yrs</td>\n",
       "    </tr>\n",
       "    <tr>\n",
       "      <th>8</th>\n",
       "      <td>BYJU'S DBEL : Sr Data Analyst</td>\n",
       "      <td>Bangalore/Bengaluru</td>\n",
       "      <td>BYJUS</td>\n",
       "      <td>3-7 Yrs</td>\n",
       "    </tr>\n",
       "    <tr>\n",
       "      <th>9</th>\n",
       "      <td>SR. Data Analyst- SME- Pharma and Healthcare</td>\n",
       "      <td>Bangalore/Bengaluru, Noida, Hyderabad/Secunder...</td>\n",
       "      <td>CHRYSELYS</td>\n",
       "      <td>2-6 Yrs</td>\n",
       "    </tr>\n",
       "  </tbody>\n",
       "</table>\n",
       "</div>"
      ],
      "text/plain": [
       "                                           Job Title  \\\n",
       "0  Contractual Hiring For Top MNC || Business Dat...   \n",
       "1                              Customer Data Analyst   \n",
       "2                    Data Analyst - Decision Science   \n",
       "3                             Associate Data Analyst   \n",
       "4                             Associate Data Analyst   \n",
       "5                                Senior Data Analyst   \n",
       "6                                       Data Analyst   \n",
       "7                Women on career break_ Data Analyst   \n",
       "8                      BYJU'S DBEL : Sr Data Analyst   \n",
       "9       SR. Data Analyst- SME- Pharma and Healthcare   \n",
       "\n",
       "                                            Location             Company Name  \\\n",
       "0                                Bangalore/Bengaluru                TeamLease   \n",
       "1                                Bangalore/Bengaluru                   Oracle   \n",
       "2                                Bangalore/Bengaluru  Jana Small Finance Bank   \n",
       "3                                Bangalore/Bengaluru                    Optum   \n",
       "4                                Bangalore/Bengaluru                    Optum   \n",
       "5                        Bangalore/Bengaluru(Domlur)                 KrazyBee   \n",
       "6                                Bangalore/Bengaluru             Novel Office   \n",
       "7        Bangalore/Bengaluru, Hyderabad/Secunderabad      Zinnov Management C   \n",
       "8                                Bangalore/Bengaluru                    BYJUS   \n",
       "9  Bangalore/Bengaluru, Noida, Hyderabad/Secunder...                CHRYSELYS   \n",
       "\n",
       "  Experience  \n",
       "0    5-8 Yrs  \n",
       "1    1-3 Yrs  \n",
       "2    3-8 Yrs  \n",
       "3    2-7 Yrs  \n",
       "4    1-4 Yrs  \n",
       "5    3-5 Yrs  \n",
       "6    0-3 Yrs  \n",
       "7   5-10 Yrs  \n",
       "8    3-7 Yrs  \n",
       "9    2-6 Yrs  "
      ]
     },
     "execution_count": 26,
     "metadata": {},
     "output_type": "execute_result"
    }
   ],
   "source": [
    "data=list(zip(job_title,job_location,company_name,job_experience))\n",
    "data_analyst_df=pd.DataFrame(data,columns=[\"Job Title\",\"Location\",\"Company Name\",\"Experience\"])\n",
    "data_analyst_df"
   ]
  },
  {
   "cell_type": "code",
   "execution_count": 33,
   "id": "61720f6f",
   "metadata": {},
   "outputs": [],
   "source": [
    "#Q-2\n",
    "# driver connection\n",
    "driver1=webdriver.Chrome(r\"D:\\Software\\chromedriver_win32\\chromedriver.exe\")"
   ]
  },
  {
   "cell_type": "code",
   "execution_count": 34,
   "id": "6d326976",
   "metadata": {},
   "outputs": [],
   "source": [
    "driver1.get(\"https://www.naukri.com/\")"
   ]
  },
  {
   "cell_type": "code",
   "execution_count": 35,
   "id": "216aef6f",
   "metadata": {},
   "outputs": [],
   "source": [
    "\n",
    "\n",
    "designation1=driver1.find_element(By.CLASS_NAME,\"suggestor-input \")\n",
    "designation1.send_keys('Data Scientist')\n",
    "\n",
    "location1=driver1.find_element(By.XPATH,\"/html/body/div[1]/div[6]/div/div/div[5]/div/div/div/input\")\n",
    "location1.send_keys('Bangalore')"
   ]
  },
  {
   "cell_type": "code",
   "execution_count": 36,
   "id": "6b95ea0f",
   "metadata": {},
   "outputs": [],
   "source": [
    "search1=driver1.find_element(By.CLASS_NAME,\"qsbSubmit\")\n",
    "search1.click()"
   ]
  },
  {
   "cell_type": "code",
   "execution_count": 37,
   "id": "66a1280c",
   "metadata": {},
   "outputs": [],
   "source": [
    "job_title1=[]\n",
    "job_location1=[]\n",
    "job_experience1=[]\n",
    "company_name1=[]\n"
   ]
  },
  {
   "cell_type": "code",
   "execution_count": 38,
   "id": "0f477d51",
   "metadata": {},
   "outputs": [],
   "source": [
    "#get job titles\n",
    "title_tags1=driver1.find_elements(By.XPATH,'//a[@class=\"title fw500 ellipsis\"]')\n",
    "for i in title_tags1[0:10]:\n",
    "    title1=i.text\n",
    "    job_title1.append(title1)\n",
    "    \n",
    "#get job location\n",
    "location_tags1=driver1.find_elements(By.XPATH,'//li[@class=\"fleft grey-text br2 placeHolderLi location\"]')\n",
    "for i in location_tags1[0:10]:\n",
    "    location1=i.text\n",
    "    job_location1.append(location1) \n",
    "    \n",
    "#get company name\n",
    "    company_tags1=driver1.find_elements(By.XPATH,'//a[@class=\"subTitle ellipsis fleft\"]')\n",
    "for i in company_tags1[0:10]:\n",
    "    company1=i.text\n",
    "    company_name1.append(company1)  \n",
    "    \n",
    "#get Job Experience\n",
    "experience_tags1=driver1.find_elements(By.XPATH,'//li[@class=\"fleft grey-text br2 placeHolderLi experience\"]')\n",
    "for i in experience_tags1[0:10]:\n",
    "    experience1=i.text\n",
    "    job_experience1.append(experience1)  "
   ]
  },
  {
   "cell_type": "code",
   "execution_count": 39,
   "id": "4094d74d",
   "metadata": {},
   "outputs": [
    {
     "name": "stdout",
     "output_type": "stream",
     "text": [
      "10 10 10 10\n"
     ]
    }
   ],
   "source": [
    "print(len(job_title1),len(job_location1),len(company_name1),len(job_experience1))"
   ]
  },
  {
   "cell_type": "code",
   "execution_count": 40,
   "id": "a5eeb952",
   "metadata": {},
   "outputs": [
    {
     "data": {
      "text/html": [
       "<div>\n",
       "<style scoped>\n",
       "    .dataframe tbody tr th:only-of-type {\n",
       "        vertical-align: middle;\n",
       "    }\n",
       "\n",
       "    .dataframe tbody tr th {\n",
       "        vertical-align: top;\n",
       "    }\n",
       "\n",
       "    .dataframe thead th {\n",
       "        text-align: right;\n",
       "    }\n",
       "</style>\n",
       "<table border=\"1\" class=\"dataframe\">\n",
       "  <thead>\n",
       "    <tr style=\"text-align: right;\">\n",
       "      <th></th>\n",
       "      <th>Job Title</th>\n",
       "      <th>Location</th>\n",
       "      <th>Company Name</th>\n",
       "      <th>Experience</th>\n",
       "    </tr>\n",
       "  </thead>\n",
       "  <tbody>\n",
       "    <tr>\n",
       "      <th>0</th>\n",
       "      <td>Job Opportunity on Data Science_ Python with T...</td>\n",
       "      <td>Bangalore/Bengaluru, Kolkata, Hyderabad/Secund...</td>\n",
       "      <td>Tech Mahindra</td>\n",
       "      <td>4-9 Yrs</td>\n",
       "    </tr>\n",
       "    <tr>\n",
       "      <th>1</th>\n",
       "      <td>Assistant Manager - Data Science</td>\n",
       "      <td>Bangalore/Bengaluru, Mumbai, Pune</td>\n",
       "      <td>CitiusTech</td>\n",
       "      <td>5-9 Yrs</td>\n",
       "    </tr>\n",
       "    <tr>\n",
       "      <th>2</th>\n",
       "      <td>Analystics &amp; Modeling Specialist</td>\n",
       "      <td>Bangalore/Bengaluru, Kolkata, Mumbai, Hyderaba...</td>\n",
       "      <td>Accenture</td>\n",
       "      <td>6-8 Yrs</td>\n",
       "    </tr>\n",
       "    <tr>\n",
       "      <th>3</th>\n",
       "      <td>Hiring For DATA Scientist @ NTT DATA Business ...</td>\n",
       "      <td>Bangalore/Bengaluru, Noida, Hyderabad/Secunder...</td>\n",
       "      <td>NTT DATA Business Solutions Private Limited</td>\n",
       "      <td>4-9 Yrs</td>\n",
       "    </tr>\n",
       "    <tr>\n",
       "      <th>4</th>\n",
       "      <td>Data Scientist - A.P. Maersk</td>\n",
       "      <td>Bangalore/Bengaluru\\n(WFH during Covid)</td>\n",
       "      <td>Maersk</td>\n",
       "      <td>5-10 Yrs</td>\n",
       "    </tr>\n",
       "    <tr>\n",
       "      <th>5</th>\n",
       "      <td>Data Scientist</td>\n",
       "      <td>Bangalore/Bengaluru</td>\n",
       "      <td>United Phosphorus Limited</td>\n",
       "      <td>2-7 Yrs</td>\n",
       "    </tr>\n",
       "    <tr>\n",
       "      <th>6</th>\n",
       "      <td>Data Scientist</td>\n",
       "      <td>Bangalore/Bengaluru</td>\n",
       "      <td>United Phosphorus Limited</td>\n",
       "      <td>2-7 Yrs</td>\n",
       "    </tr>\n",
       "    <tr>\n",
       "      <th>7</th>\n",
       "      <td>Data Scientist</td>\n",
       "      <td>Bangalore/Bengaluru</td>\n",
       "      <td>United Phosphorus Limited</td>\n",
       "      <td>2-7 Yrs</td>\n",
       "    </tr>\n",
       "    <tr>\n",
       "      <th>8</th>\n",
       "      <td>Principal Data Scientist</td>\n",
       "      <td>Bangalore/Bengaluru</td>\n",
       "      <td>Optum</td>\n",
       "      <td>10-15 Yrs</td>\n",
       "    </tr>\n",
       "    <tr>\n",
       "      <th>9</th>\n",
       "      <td>Data Scientist / Senior Data Scientist</td>\n",
       "      <td>Bangalore/Bengaluru, Pune, Chennai</td>\n",
       "      <td>Mindtree</td>\n",
       "      <td>7-12 Yrs</td>\n",
       "    </tr>\n",
       "  </tbody>\n",
       "</table>\n",
       "</div>"
      ],
      "text/plain": [
       "                                           Job Title  \\\n",
       "0  Job Opportunity on Data Science_ Python with T...   \n",
       "1                   Assistant Manager - Data Science   \n",
       "2                   Analystics & Modeling Specialist   \n",
       "3  Hiring For DATA Scientist @ NTT DATA Business ...   \n",
       "4                       Data Scientist - A.P. Maersk   \n",
       "5                                     Data Scientist   \n",
       "6                                     Data Scientist   \n",
       "7                                     Data Scientist   \n",
       "8                           Principal Data Scientist   \n",
       "9             Data Scientist / Senior Data Scientist   \n",
       "\n",
       "                                            Location  \\\n",
       "0  Bangalore/Bengaluru, Kolkata, Hyderabad/Secund...   \n",
       "1                  Bangalore/Bengaluru, Mumbai, Pune   \n",
       "2  Bangalore/Bengaluru, Kolkata, Mumbai, Hyderaba...   \n",
       "3  Bangalore/Bengaluru, Noida, Hyderabad/Secunder...   \n",
       "4            Bangalore/Bengaluru\\n(WFH during Covid)   \n",
       "5                                Bangalore/Bengaluru   \n",
       "6                                Bangalore/Bengaluru   \n",
       "7                                Bangalore/Bengaluru   \n",
       "8                                Bangalore/Bengaluru   \n",
       "9                 Bangalore/Bengaluru, Pune, Chennai   \n",
       "\n",
       "                                  Company Name Experience  \n",
       "0                                Tech Mahindra    4-9 Yrs  \n",
       "1                                   CitiusTech    5-9 Yrs  \n",
       "2                                    Accenture    6-8 Yrs  \n",
       "3  NTT DATA Business Solutions Private Limited    4-9 Yrs  \n",
       "4                                       Maersk   5-10 Yrs  \n",
       "5                    United Phosphorus Limited    2-7 Yrs  \n",
       "6                    United Phosphorus Limited    2-7 Yrs  \n",
       "7                    United Phosphorus Limited    2-7 Yrs  \n",
       "8                                        Optum  10-15 Yrs  \n",
       "9                                     Mindtree   7-12 Yrs  "
      ]
     },
     "execution_count": 40,
     "metadata": {},
     "output_type": "execute_result"
    }
   ],
   "source": [
    "data1=list(zip(job_title1,job_location1,company_name1,job_experience1))\n",
    "data_scientist_df=pd.DataFrame(data1,columns=[\"Job Title\",\"Location\",\"Company Name\",\"Experience\"])\n",
    "data_scientist_df"
   ]
  },
  {
   "cell_type": "code",
   "execution_count": 65,
   "id": "9be49800",
   "metadata": {},
   "outputs": [],
   "source": [
    "#Q-3\n",
    "# driver connection\n",
    "driver2=webdriver.Chrome(r\"D:\\Software\\chromedriver_win32\\chromedriver.exe\")"
   ]
  },
  {
   "cell_type": "code",
   "execution_count": 66,
   "id": "3874d0cd",
   "metadata": {},
   "outputs": [],
   "source": [
    "driver2.get(\"https://www.naukri.com/\")"
   ]
  },
  {
   "cell_type": "code",
   "execution_count": 67,
   "id": "df3ba941",
   "metadata": {},
   "outputs": [],
   "source": [
    "designation2=driver2.find_element(By.CLASS_NAME,\"suggestor-input \")\n",
    "designation2.send_keys('Data Scientist')"
   ]
  },
  {
   "cell_type": "code",
   "execution_count": 68,
   "id": "11846f28",
   "metadata": {},
   "outputs": [],
   "source": [
    "search2=driver2.find_element(By.CLASS_NAME,\"qsbSubmit\")\n",
    "search2.click()"
   ]
  },
  {
   "cell_type": "code",
   "execution_count": 69,
   "id": "44e1ae4c",
   "metadata": {},
   "outputs": [],
   "source": [
    "location2=driver2.find_element(By.XPATH,'/html/body/div[1]/div[4]/div/section[1]/div[2]/div[5]/div[2]/div[3]/label/i')\n",
    "location2.click()\n",
    "\n",
    "#location2=driver2.find_element(By.XPATH,'//input[@id=\"chk-Delhi / NCR-cityTypeGid-\"]')\n",
    "#location2.click()\n"
   ]
  },
  {
   "cell_type": "code",
   "execution_count": 70,
   "id": "cec265bc",
   "metadata": {},
   "outputs": [],
   "source": [
    "salary=driver2.find_element(By.XPATH,'/html/body/div[1]/div[4]/div/section[1]/div[2]/div[6]/div[2]/div[2]/label/i')\n",
    "salary.click()"
   ]
  },
  {
   "cell_type": "code",
   "execution_count": 71,
   "id": "e9fc823c",
   "metadata": {},
   "outputs": [],
   "source": [
    "job_title2=[]\n",
    "job_location2=[]\n",
    "job_experience2=[]\n",
    "company_name2=[]"
   ]
  },
  {
   "cell_type": "code",
   "execution_count": 72,
   "id": "e6e483a3",
   "metadata": {},
   "outputs": [],
   "source": [
    "#get job titles\n",
    "title_tags2=driver2.find_elements(By.XPATH,'//a[@class=\"title fw500 ellipsis\"]')\n",
    "for i in title_tags2[0:10]:\n",
    "    title2=i.text\n",
    "    job_title2.append(title2)\n",
    "    \n",
    "#get job location\n",
    "location_tags2=driver2.find_elements(By.XPATH,'//li[@class=\"fleft grey-text br2 placeHolderLi location\"]')\n",
    "for i in location_tags2[0:10]:\n",
    "    location2=i.text\n",
    "    job_location2.append(location2) \n",
    "    \n",
    "#get company name\n",
    "company_tags2=driver2.find_elements(By.XPATH,'//a[@class=\"subTitle ellipsis fleft\"]')\n",
    "for i in company_tags2[0:10]:\n",
    "    company2=i.text\n",
    "    company_name2.append(company2)  \n",
    "    \n",
    "#get Job Experience\n",
    "experience_tags2=driver2.find_elements(By.XPATH,'//li[@class=\"fleft grey-text br2 placeHolderLi experience\"]')\n",
    "for i in experience_tags2[0:10]:\n",
    "    experience2=i.text\n",
    "    job_experience2.append(experience2)  "
   ]
  },
  {
   "cell_type": "code",
   "execution_count": 54,
   "id": "a26ed7bd",
   "metadata": {},
   "outputs": [
    {
     "name": "stdout",
     "output_type": "stream",
     "text": [
      "10 10 10 10\n"
     ]
    }
   ],
   "source": [
    "print(len(job_title2),len(job_location2),len(company_name2),len(job_experience2))"
   ]
  },
  {
   "cell_type": "code",
   "execution_count": 55,
   "id": "03d672fc",
   "metadata": {},
   "outputs": [
    {
     "data": {
      "text/html": [
       "<div>\n",
       "<style scoped>\n",
       "    .dataframe tbody tr th:only-of-type {\n",
       "        vertical-align: middle;\n",
       "    }\n",
       "\n",
       "    .dataframe tbody tr th {\n",
       "        vertical-align: top;\n",
       "    }\n",
       "\n",
       "    .dataframe thead th {\n",
       "        text-align: right;\n",
       "    }\n",
       "</style>\n",
       "<table border=\"1\" class=\"dataframe\">\n",
       "  <thead>\n",
       "    <tr style=\"text-align: right;\">\n",
       "      <th></th>\n",
       "      <th>Job Title</th>\n",
       "      <th>Location</th>\n",
       "      <th>Company Name</th>\n",
       "      <th>Experience</th>\n",
       "    </tr>\n",
       "  </thead>\n",
       "  <tbody>\n",
       "    <tr>\n",
       "      <th>0</th>\n",
       "      <td>DigitalBCG GAMMA Data Scientist</td>\n",
       "      <td>New Delhi, Bangalore/Bengaluru</td>\n",
       "      <td>Boston Consulting Group</td>\n",
       "      <td>2-5 Yrs</td>\n",
       "    </tr>\n",
       "    <tr>\n",
       "      <th>1</th>\n",
       "      <td>Data Scientist</td>\n",
       "      <td>Gurgaon/Gurugram</td>\n",
       "      <td>Optum</td>\n",
       "      <td>2-7 Yrs</td>\n",
       "    </tr>\n",
       "    <tr>\n",
       "      <th>2</th>\n",
       "      <td>Data Scientist / Chat-bot Developer</td>\n",
       "      <td>New Delhi, Bangalore/Bengaluru, Mumbai (All Ar...</td>\n",
       "      <td>Big Seo Buzz</td>\n",
       "      <td>3-7 Yrs</td>\n",
       "    </tr>\n",
       "    <tr>\n",
       "      <th>3</th>\n",
       "      <td>Lead Data Scientist</td>\n",
       "      <td>Noida(Sector-59 Noida)\\n(WFH during Covid)</td>\n",
       "      <td>R Systems International</td>\n",
       "      <td>7-10 Yrs</td>\n",
       "    </tr>\n",
       "    <tr>\n",
       "      <th>4</th>\n",
       "      <td>Data Scientist - Predictive Analytics</td>\n",
       "      <td>Noida, Mumbai, Chandigarh, Hyderabad/Secundera...</td>\n",
       "      <td>Confidential</td>\n",
       "      <td>1-6 Yrs</td>\n",
       "    </tr>\n",
       "    <tr>\n",
       "      <th>5</th>\n",
       "      <td>Data Scientist For Healthcare Product team</td>\n",
       "      <td>Delhi / NCR, Chennai, Bangalore/Bengaluru</td>\n",
       "      <td>SECUREKLOUD TECHNOLOGIES</td>\n",
       "      <td>2-7 Yrs</td>\n",
       "    </tr>\n",
       "    <tr>\n",
       "      <th>6</th>\n",
       "      <td>Data Scientist</td>\n",
       "      <td>Noida</td>\n",
       "      <td>4i Odc</td>\n",
       "      <td>2-4 Yrs</td>\n",
       "    </tr>\n",
       "    <tr>\n",
       "      <th>7</th>\n",
       "      <td>Data Scientist - Engine Algorithm</td>\n",
       "      <td>Delhi / NCR, Kolkata, Mumbai, Hyderabad/Secund...</td>\n",
       "      <td>Primo Hiring</td>\n",
       "      <td>1-3 Yrs</td>\n",
       "    </tr>\n",
       "    <tr>\n",
       "      <th>8</th>\n",
       "      <td>Data Scientist</td>\n",
       "      <td>Gurgaon/Gurugram</td>\n",
       "      <td>Feedback Infra</td>\n",
       "      <td>2-4 Yrs</td>\n",
       "    </tr>\n",
       "    <tr>\n",
       "      <th>9</th>\n",
       "      <td>Jr. Data Scientist</td>\n",
       "      <td>Noida</td>\n",
       "      <td>Dataflow</td>\n",
       "      <td>2-5 Yrs</td>\n",
       "    </tr>\n",
       "  </tbody>\n",
       "</table>\n",
       "</div>"
      ],
      "text/plain": [
       "                                    Job Title  \\\n",
       "0             DigitalBCG GAMMA Data Scientist   \n",
       "1                              Data Scientist   \n",
       "2         Data Scientist / Chat-bot Developer   \n",
       "3                         Lead Data Scientist   \n",
       "4       Data Scientist - Predictive Analytics   \n",
       "5  Data Scientist For Healthcare Product team   \n",
       "6                              Data Scientist   \n",
       "7           Data Scientist - Engine Algorithm   \n",
       "8                              Data Scientist   \n",
       "9                          Jr. Data Scientist   \n",
       "\n",
       "                                            Location  \\\n",
       "0                     New Delhi, Bangalore/Bengaluru   \n",
       "1                                   Gurgaon/Gurugram   \n",
       "2  New Delhi, Bangalore/Bengaluru, Mumbai (All Ar...   \n",
       "3         Noida(Sector-59 Noida)\\n(WFH during Covid)   \n",
       "4  Noida, Mumbai, Chandigarh, Hyderabad/Secundera...   \n",
       "5          Delhi / NCR, Chennai, Bangalore/Bengaluru   \n",
       "6                                              Noida   \n",
       "7  Delhi / NCR, Kolkata, Mumbai, Hyderabad/Secund...   \n",
       "8                                   Gurgaon/Gurugram   \n",
       "9                                              Noida   \n",
       "\n",
       "               Company Name Experience  \n",
       "0   Boston Consulting Group    2-5 Yrs  \n",
       "1                     Optum    2-7 Yrs  \n",
       "2              Big Seo Buzz    3-7 Yrs  \n",
       "3   R Systems International   7-10 Yrs  \n",
       "4              Confidential    1-6 Yrs  \n",
       "5  SECUREKLOUD TECHNOLOGIES    2-7 Yrs  \n",
       "6                    4i Odc    2-4 Yrs  \n",
       "7              Primo Hiring    1-3 Yrs  \n",
       "8            Feedback Infra    2-4 Yrs  \n",
       "9                  Dataflow    2-5 Yrs  "
      ]
     },
     "execution_count": 55,
     "metadata": {},
     "output_type": "execute_result"
    }
   ],
   "source": [
    "data2=list(zip(job_title2,job_location2,company_name2,job_experience2))\n",
    "data_scientist_filter_df=pd.DataFrame(data2,columns=[\"Job Title\",\"Location\",\"Company Name\",\"Experience\"])\n",
    "data_scientist_filter_df"
   ]
  },
  {
   "cell_type": "code",
   "execution_count": 202,
   "id": "a4130d05",
   "metadata": {},
   "outputs": [],
   "source": [
    "#Q-4\n",
    "# driver connection\n",
    "driver4=webdriver.Chrome(r\"D:\\Software\\chromedriver_win32\\chromedriver.exe\")"
   ]
  },
  {
   "cell_type": "code",
   "execution_count": 203,
   "id": "43188963",
   "metadata": {},
   "outputs": [],
   "source": [
    "driver4.get(\"https://www.flipkart.com/\")"
   ]
  },
  {
   "cell_type": "code",
   "execution_count": 204,
   "id": "310f7f4d",
   "metadata": {},
   "outputs": [],
   "source": [
    "product_item=driver4.find_element(By.CLASS_NAME,\"_3704LK\")\n",
    "product_item.send_keys('sunglasses')"
   ]
  },
  {
   "cell_type": "code",
   "execution_count": 205,
   "id": "0f599cc6",
   "metadata": {},
   "outputs": [],
   "source": [
    "search_flip=driver4.find_element(By.CLASS_NAME,\"L0Z3Pu\")\n",
    "search_flip.click()"
   ]
  },
  {
   "cell_type": "code",
   "execution_count": 207,
   "id": "7841641a",
   "metadata": {},
   "outputs": [],
   "source": [
    "product_brand=[]\n",
    "product_description=[]\n",
    "Product_price=[]\n",
    "\n",
    "start=0\n",
    "end=2\n",
    "for page in range(start,end):\n",
    "    \n",
    "    \n",
    "    prod_brand=driver4.find_elements(By.XPATH,'//div[@class=\"_2WkVRV\"]')\n",
    "    for i in prod_brand:\n",
    "        product_brand.append(i.text)\n",
    "        \n",
    "    prod_desc=driver4.find_elements(By.XPATH,'//a[@class=\"IRpwTa\"]')\n",
    "    for i in prod_desc:\n",
    "        product_description.append(i.text)\n",
    "        \n",
    "    prod_price=driver4.find_elements(By.XPATH,'//div[@class=\"_30jeq3\"]')\n",
    "    for i in prod_price:\n",
    "        Product_price.append(i.text)\n",
    "        \n",
    "    next_button=driver4.find_element(By.CLASS_NAME,\"_1LKTO3\")\n",
    "    next_button.click()\n",
    "    time.sleep(3)\n",
    "    \n",
    "    "
   ]
  },
  {
   "cell_type": "code",
   "execution_count": 208,
   "id": "79295e2f",
   "metadata": {},
   "outputs": [
    {
     "name": "stdout",
     "output_type": "stream",
     "text": [
      "80 80 80\n"
     ]
    }
   ],
   "source": [
    "print(len(product_brand),len(product_description),len(Product_price))"
   ]
  },
  {
   "cell_type": "code",
   "execution_count": 209,
   "id": "121e1a9c",
   "metadata": {},
   "outputs": [
    {
     "data": {
      "text/html": [
       "<div>\n",
       "<style scoped>\n",
       "    .dataframe tbody tr th:only-of-type {\n",
       "        vertical-align: middle;\n",
       "    }\n",
       "\n",
       "    .dataframe tbody tr th {\n",
       "        vertical-align: top;\n",
       "    }\n",
       "\n",
       "    .dataframe thead th {\n",
       "        text-align: right;\n",
       "    }\n",
       "</style>\n",
       "<table border=\"1\" class=\"dataframe\">\n",
       "  <thead>\n",
       "    <tr style=\"text-align: right;\">\n",
       "      <th></th>\n",
       "      <th>Brand</th>\n",
       "      <th>Product Description</th>\n",
       "      <th>Price</th>\n",
       "    </tr>\n",
       "  </thead>\n",
       "  <tbody>\n",
       "    <tr>\n",
       "      <th>0</th>\n",
       "      <td>VINCENT CHASE</td>\n",
       "      <td>Polarized, UV Protection Round Sunglasses (50)</td>\n",
       "      <td>₹1,049</td>\n",
       "    </tr>\n",
       "    <tr>\n",
       "      <th>1</th>\n",
       "      <td>VINCENT CHASE</td>\n",
       "      <td>Polarized, UV Protection Round Sunglasses (51)</td>\n",
       "      <td>₹1,533</td>\n",
       "    </tr>\n",
       "    <tr>\n",
       "      <th>2</th>\n",
       "      <td>Fastrack</td>\n",
       "      <td>UV Protection Wayfarer Sunglasses (Free Size)</td>\n",
       "      <td>₹799</td>\n",
       "    </tr>\n",
       "    <tr>\n",
       "      <th>3</th>\n",
       "      <td>New Specs</td>\n",
       "      <td>UV Protection Rectangular Sunglasses (Free Size)</td>\n",
       "      <td>₹250</td>\n",
       "    </tr>\n",
       "    <tr>\n",
       "      <th>4</th>\n",
       "      <td>PIRASO</td>\n",
       "      <td>UV Protection Aviator Sunglasses (54)</td>\n",
       "      <td>₹251</td>\n",
       "    </tr>\n",
       "    <tr>\n",
       "      <th>...</th>\n",
       "      <td>...</td>\n",
       "      <td>...</td>\n",
       "      <td>...</td>\n",
       "    </tr>\n",
       "    <tr>\n",
       "      <th>75</th>\n",
       "      <td>VINCENT CHASE</td>\n",
       "      <td>Polarized, UV Protection Round Sunglasses (50)</td>\n",
       "      <td>₹1,049</td>\n",
       "    </tr>\n",
       "    <tr>\n",
       "      <th>76</th>\n",
       "      <td>Silver Kartz</td>\n",
       "      <td>UV Protection Wayfarer Sunglasses (Free Size)</td>\n",
       "      <td>₹288</td>\n",
       "    </tr>\n",
       "    <tr>\n",
       "      <th>77</th>\n",
       "      <td>Fastrack</td>\n",
       "      <td>UV Protection Wrap-around Sunglasses (63)</td>\n",
       "      <td>₹710</td>\n",
       "    </tr>\n",
       "    <tr>\n",
       "      <th>78</th>\n",
       "      <td>Fastrack</td>\n",
       "      <td>UV Protection Wayfarer Sunglasses (Free Size)</td>\n",
       "      <td>₹599</td>\n",
       "    </tr>\n",
       "    <tr>\n",
       "      <th>79</th>\n",
       "      <td>AISLIN</td>\n",
       "      <td>UV Protection, Gradient Cat-eye Sunglasses (58)</td>\n",
       "      <td>₹498</td>\n",
       "    </tr>\n",
       "  </tbody>\n",
       "</table>\n",
       "<p>80 rows × 3 columns</p>\n",
       "</div>"
      ],
      "text/plain": [
       "            Brand                               Product Description   Price\n",
       "0   VINCENT CHASE    Polarized, UV Protection Round Sunglasses (50)  ₹1,049\n",
       "1   VINCENT CHASE    Polarized, UV Protection Round Sunglasses (51)  ₹1,533\n",
       "2        Fastrack     UV Protection Wayfarer Sunglasses (Free Size)    ₹799\n",
       "3       New Specs  UV Protection Rectangular Sunglasses (Free Size)    ₹250\n",
       "4          PIRASO             UV Protection Aviator Sunglasses (54)    ₹251\n",
       "..            ...                                               ...     ...\n",
       "75  VINCENT CHASE    Polarized, UV Protection Round Sunglasses (50)  ₹1,049\n",
       "76   Silver Kartz     UV Protection Wayfarer Sunglasses (Free Size)    ₹288\n",
       "77       Fastrack         UV Protection Wrap-around Sunglasses (63)    ₹710\n",
       "78       Fastrack     UV Protection Wayfarer Sunglasses (Free Size)    ₹599\n",
       "79         AISLIN   UV Protection, Gradient Cat-eye Sunglasses (58)    ₹498\n",
       "\n",
       "[80 rows x 3 columns]"
      ]
     },
     "execution_count": 209,
     "metadata": {},
     "output_type": "execute_result"
    }
   ],
   "source": [
    "data_glasses=list(zip(product_brand,product_description,Product_price))\n",
    "data_glasses_df=pd.DataFrame(data_glasses,columns=[\"Brand\",\"Product Description\",\"Price\"])\n",
    "data_glasses_df"
   ]
  },
  {
   "cell_type": "code",
   "execution_count": 267,
   "id": "3b946ef7",
   "metadata": {},
   "outputs": [],
   "source": [
    "#Q-5\n",
    "# driver connection\n",
    "driver5=webdriver.Chrome(r\"D:\\Software\\chromedriver_win32\\chromedriver.exe\")"
   ]
  },
  {
   "cell_type": "code",
   "execution_count": 268,
   "id": "63534bf9",
   "metadata": {},
   "outputs": [],
   "source": [
    "driver5.get(\"https://www.flipkart.com/\")"
   ]
  },
  {
   "cell_type": "code",
   "execution_count": 269,
   "id": "c2276346",
   "metadata": {},
   "outputs": [],
   "source": [
    "product_iphone=driver5.find_element(By.CLASS_NAME,\"_3704LK\")\n",
    "product_iphone.send_keys('iphone11 black')"
   ]
  },
  {
   "cell_type": "code",
   "execution_count": 270,
   "id": "15cd56f9",
   "metadata": {},
   "outputs": [],
   "source": [
    "search_iphone=driver5.find_element(By.CLASS_NAME,\"L0Z3Pu\")\n",
    "search_iphone.click()"
   ]
  },
  {
   "cell_type": "code",
   "execution_count": 271,
   "id": "6ba72579",
   "metadata": {},
   "outputs": [],
   "source": [
    "search_iphone11=driver5.find_element(By.XPATH,'/html/body/div[1]/div/div[3]/div[1]/div[2]/div[4]/div/div/div/a/div[2]/div[1]/div[1]')\n",
    "search_iphone11.click()\n"
   ]
  },
  {
   "cell_type": "code",
   "execution_count": 272,
   "id": "a1041709",
   "metadata": {},
   "outputs": [],
   "source": [
    "iphone_rating=[]\n",
    "iphone_summary=[]\n",
    "iphone_full_review=[]  \n",
    "    "
   ]
  },
  {
   "cell_type": "code",
   "execution_count": 276,
   "id": "13d4f774",
   "metadata": {},
   "outputs": [
    {
     "ename": "IndentationError",
     "evalue": "unexpected indent (Temp/ipykernel_6536/2126310035.py, line 3)",
     "output_type": "error",
     "traceback": [
      "\u001b[1;36m  File \u001b[1;32m\"C:\\Users\\DELL\\AppData\\Local\\Temp/ipykernel_6536/2126310035.py\"\u001b[1;36m, line \u001b[1;32m3\u001b[0m\n\u001b[1;33m    for i in i_summ:\u001b[0m\n\u001b[1;37m    ^\u001b[0m\n\u001b[1;31mIndentationError\u001b[0m\u001b[1;31m:\u001b[0m unexpected indent\n"
     ]
    }
   ],
   "source": [
    "\n",
    "i_summ=driver5.find_elements(By.XPATH,'//div[@class=\"_3LWZlK _1BLPMq\"]')    \n",
    "    for i in i_summ:\n",
    "    rate=i.text\n",
    "    iphone_rating.append(rate)"
   ]
  },
  {
   "cell_type": "code",
   "execution_count": 253,
   "id": "f1c84285",
   "metadata": {},
   "outputs": [],
   "source": [
    "  \n",
    "    "
   ]
  },
  {
   "cell_type": "code",
   "execution_count": 274,
   "id": "c2eb1a93",
   "metadata": {},
   "outputs": [
    {
     "name": "stdout",
     "output_type": "stream",
     "text": [
      "0 0 0\n"
     ]
    }
   ],
   "source": [
    "print(len(iphone_summary),len(iphone_rating),len(iphone_full_review))"
   ]
  },
  {
   "cell_type": "code",
   "execution_count": 307,
   "id": "919203f7",
   "metadata": {},
   "outputs": [],
   "source": [
    "#Q-6\n",
    "# driver connection\n",
    "driver6=webdriver.Chrome(r\"D:\\Software\\chromedriver_win32\\chromedriver.exe\")"
   ]
  },
  {
   "cell_type": "code",
   "execution_count": 308,
   "id": "dca8c2f9",
   "metadata": {},
   "outputs": [],
   "source": [
    "driver6.get(\"https://www.flipkart.com/\")"
   ]
  },
  {
   "cell_type": "code",
   "execution_count": 309,
   "id": "0aea9977",
   "metadata": {},
   "outputs": [],
   "source": [
    "product_sneakers=driver6.find_element(By.CLASS_NAME,\"_3704LK\")\n",
    "product_sneakers.send_keys('sneakers')"
   ]
  },
  {
   "cell_type": "code",
   "execution_count": 310,
   "id": "3e2eb5ec",
   "metadata": {},
   "outputs": [],
   "source": [
    "search_sneaker=driver6.find_element(By.CLASS_NAME,\"L0Z3Pu\")\n",
    "search_sneaker.click()"
   ]
  },
  {
   "cell_type": "code",
   "execution_count": 320,
   "id": "640806e0",
   "metadata": {},
   "outputs": [],
   "source": [
    "product_brand1=[]\n",
    "product_description1=[]\n",
    "Product_price1=[]\n",
    "\n",
    "start=0\n",
    "end=2\n",
    "for page in range(start,end):\n",
    "    \n",
    "    prod_brand1=driver6.find_elements(By.XPATH,'//div[@class=\"_2WkVRV\"]')\n",
    "    for i in prod_brand1:\n",
    "        product_brand1.append(i.text)\n",
    "    \n",
    "        \n",
    "    prod_desc1=driver6.find_elements(By.XPATH,'//a[@class=\"IRpwTa\"]')\n",
    "    for i in prod_desc1:\n",
    "        product_description1.append(i.text)\n",
    "        \n",
    "    prod_price1=driver6.find_elements(By.XPATH,'//div[@class=\"_30jeq3\"]')\n",
    "    for i in prod_price1:\n",
    "        Product_price1.append(i.text)\n",
    "        \n",
    "    next_button_sneaker=driver6.find_element(By.CLASS_NAME,\"_1LKTO3\")\n",
    "    next_button_sneaker.click()\n",
    "    time.sleep(3)"
   ]
  },
  {
   "cell_type": "code",
   "execution_count": 318,
   "id": "e286dc89",
   "metadata": {},
   "outputs": [
    {
     "name": "stdout",
     "output_type": "stream",
     "text": [
      "80 66 80\n"
     ]
    }
   ],
   "source": [
    "print(len(product_brand1),len(product_description1),len(Product_price1))"
   ]
  },
  {
   "cell_type": "code",
   "execution_count": 319,
   "id": "984f2477",
   "metadata": {},
   "outputs": [
    {
     "data": {
      "text/html": [
       "<div>\n",
       "<style scoped>\n",
       "    .dataframe tbody tr th:only-of-type {\n",
       "        vertical-align: middle;\n",
       "    }\n",
       "\n",
       "    .dataframe tbody tr th {\n",
       "        vertical-align: top;\n",
       "    }\n",
       "\n",
       "    .dataframe thead th {\n",
       "        text-align: right;\n",
       "    }\n",
       "</style>\n",
       "<table border=\"1\" class=\"dataframe\">\n",
       "  <thead>\n",
       "    <tr style=\"text-align: right;\">\n",
       "      <th></th>\n",
       "      <th>Brand</th>\n",
       "      <th>Product Description</th>\n",
       "      <th>Price</th>\n",
       "    </tr>\n",
       "  </thead>\n",
       "  <tbody>\n",
       "    <tr>\n",
       "      <th>0</th>\n",
       "      <td>K- FOOTLANCE</td>\n",
       "      <td>Sneakers For Men</td>\n",
       "      <td>₹399</td>\n",
       "    </tr>\n",
       "    <tr>\n",
       "      <th>1</th>\n",
       "      <td>Shozie</td>\n",
       "      <td>Sneakers For Men</td>\n",
       "      <td>₹348</td>\n",
       "    </tr>\n",
       "    <tr>\n",
       "      <th>2</th>\n",
       "      <td>Magnolia</td>\n",
       "      <td>Sneakers For Men</td>\n",
       "      <td>₹419</td>\n",
       "    </tr>\n",
       "    <tr>\n",
       "      <th>3</th>\n",
       "      <td>RapidBox</td>\n",
       "      <td>Sneakers For Men</td>\n",
       "      <td>₹610</td>\n",
       "    </tr>\n",
       "    <tr>\n",
       "      <th>4</th>\n",
       "      <td>Labbin</td>\n",
       "      <td>Sneakers For Men</td>\n",
       "      <td>₹499</td>\n",
       "    </tr>\n",
       "    <tr>\n",
       "      <th>...</th>\n",
       "      <td>...</td>\n",
       "      <td>...</td>\n",
       "      <td>...</td>\n",
       "    </tr>\n",
       "    <tr>\n",
       "      <th>61</th>\n",
       "      <td>RapidBox</td>\n",
       "      <td>Sneakers For Men</td>\n",
       "      <td>₹590</td>\n",
       "    </tr>\n",
       "    <tr>\n",
       "      <th>62</th>\n",
       "      <td>Layasa</td>\n",
       "      <td>heartbeat casual shoe Casuals For Men (White) ...</td>\n",
       "      <td>₹399</td>\n",
       "    </tr>\n",
       "    <tr>\n",
       "      <th>63</th>\n",
       "      <td>Chevit</td>\n",
       "      <td>Fashionable Canvas Casual Partywear Outdoor Sn...</td>\n",
       "      <td>₹559</td>\n",
       "    </tr>\n",
       "    <tr>\n",
       "      <th>64</th>\n",
       "      <td>LE GREEM</td>\n",
       "      <td>white sneaker Sneakers For Women</td>\n",
       "      <td>₹449</td>\n",
       "    </tr>\n",
       "    <tr>\n",
       "      <th>65</th>\n",
       "      <td>BRUTON</td>\n",
       "      <td>Sneakers For Men</td>\n",
       "      <td>₹379</td>\n",
       "    </tr>\n",
       "  </tbody>\n",
       "</table>\n",
       "<p>66 rows × 3 columns</p>\n",
       "</div>"
      ],
      "text/plain": [
       "           Brand                                Product Description Price\n",
       "0   K- FOOTLANCE                                   Sneakers For Men  ₹399\n",
       "1         Shozie                                   Sneakers For Men  ₹348\n",
       "2       Magnolia                                   Sneakers For Men  ₹419\n",
       "3       RapidBox                                   Sneakers For Men  ₹610\n",
       "4         Labbin                                   Sneakers For Men  ₹499\n",
       "..           ...                                                ...   ...\n",
       "61      RapidBox                                   Sneakers For Men  ₹590\n",
       "62        Layasa  heartbeat casual shoe Casuals For Men (White) ...  ₹399\n",
       "63        Chevit  Fashionable Canvas Casual Partywear Outdoor Sn...  ₹559\n",
       "64      LE GREEM                   white sneaker Sneakers For Women  ₹449\n",
       "65        BRUTON                                   Sneakers For Men  ₹379\n",
       "\n",
       "[66 rows x 3 columns]"
      ]
     },
     "execution_count": 319,
     "metadata": {},
     "output_type": "execute_result"
    }
   ],
   "source": [
    "data_sneakers=list(zip(product_brand1,product_description1,Product_price1))\n",
    "data_sneakers_df=pd.DataFrame(data_sneakers,columns=[\"Brand\",\"Product Description\",\"Price\"])\n",
    "data_sneakers_df"
   ]
  },
  {
   "cell_type": "code",
   "execution_count": 99,
   "id": "6f854e05",
   "metadata": {},
   "outputs": [],
   "source": [
    "#Q-7\n",
    "driver7=webdriver.Chrome(r\"D:\\Software\\chromedriver_win32\\chromedriver.exe\")\n",
    "driver7.get(\"https://www.myntra.com/shoes\")"
   ]
  },
  {
   "cell_type": "code",
   "execution_count": 100,
   "id": "6e581ea6",
   "metadata": {},
   "outputs": [],
   "source": [
    "filter_price = driver7.find_element(By.XPATH,'/html/body/div[2]/div/div[1]/main/div[3]/div[1]/section/div/div[5]/ul/li[2]/label/div')\n",
    "filter_price.click()"
   ]
  },
  {
   "cell_type": "code",
   "execution_count": 101,
   "id": "5bb12d9f",
   "metadata": {},
   "outputs": [],
   "source": [
    "filter_color= driver7.find_element(By.XPATH,'/html/body/div[2]/div/div[1]/main/div[3]/div[1]/section/div/div[6]/ul/li[1]/label/div')\n",
    "filter_color.click()"
   ]
  },
  {
   "cell_type": "code",
   "execution_count": 108,
   "id": "3e16c75e",
   "metadata": {},
   "outputs": [
    {
     "name": "stdout",
     "output_type": "stream",
     "text": [
      "Scraping page : 1\n",
      "Scraping page : 2\n"
     ]
    }
   ],
   "source": [
    "shoes_brand=[]\n",
    "shoes_description=[]\n",
    "shoe_price=[]\n",
    "\n",
    "for i in range(2):\n",
    "    print('Scraping page :', i+1)\n",
    "    brand1=driver7.find_elements(By.XPATH,'//h3[@class=\"product-brand\"]')\n",
    "    for i in brand1:\n",
    "        shoes_brand.append(i.text)\n",
    "        \n",
    "    description=driver7.find_elements(By.XPATH,'//h4[@class=\"product-product\"]')\n",
    "    for i in description:\n",
    "        shoes_description.append(i.text)    \n",
    "    \n",
    "    price=driver7.find_elements(By.XPATH,'//div[@class=\"product-price\"]')\n",
    "    for i in price:\n",
    "        shoe_price.append(i.text)\n",
    "    \n",
    "    next_btn = driver7.find_element(By.CLASS_NAME,\"pagination-next\")\n",
    "    next_btn.click()\n",
    "    sleep(2)\n",
    "   \n",
    "    "
   ]
  },
  {
   "cell_type": "code",
   "execution_count": 109,
   "id": "4be48902",
   "metadata": {},
   "outputs": [
    {
     "name": "stdout",
     "output_type": "stream",
     "text": [
      "100 100 100\n"
     ]
    }
   ],
   "source": [
    "print(len(shoes_brand),len(shoes_description),len(shoe_price))"
   ]
  },
  {
   "cell_type": "code",
   "execution_count": 110,
   "id": "b6061b85",
   "metadata": {},
   "outputs": [
    {
     "data": {
      "text/html": [
       "<div>\n",
       "<style scoped>\n",
       "    .dataframe tbody tr th:only-of-type {\n",
       "        vertical-align: middle;\n",
       "    }\n",
       "\n",
       "    .dataframe tbody tr th {\n",
       "        vertical-align: top;\n",
       "    }\n",
       "\n",
       "    .dataframe thead th {\n",
       "        text-align: right;\n",
       "    }\n",
       "</style>\n",
       "<table border=\"1\" class=\"dataframe\">\n",
       "  <thead>\n",
       "    <tr style=\"text-align: right;\">\n",
       "      <th></th>\n",
       "      <th>Brand</th>\n",
       "      <th>Product Description</th>\n",
       "      <th>Price</th>\n",
       "    </tr>\n",
       "  </thead>\n",
       "  <tbody>\n",
       "    <tr>\n",
       "      <th>0</th>\n",
       "      <td>Nike</td>\n",
       "      <td>Men ZOOM WINFLO8 Running Shoes</td>\n",
       "      <td>Rs. 7880Rs. 8295(5% OFF)</td>\n",
       "    </tr>\n",
       "    <tr>\n",
       "      <th>1</th>\n",
       "      <td>Nike</td>\n",
       "      <td>Men React Infinity 3 Running</td>\n",
       "      <td>Rs. 13295Rs. 13995(5% OFF)</td>\n",
       "    </tr>\n",
       "    <tr>\n",
       "      <th>2</th>\n",
       "      <td>Nike</td>\n",
       "      <td>Lebron Witness VI Basketball</td>\n",
       "      <td>Rs. 8295</td>\n",
       "    </tr>\n",
       "    <tr>\n",
       "      <th>3</th>\n",
       "      <td>Nike</td>\n",
       "      <td>Men Colourblocked Sneakers</td>\n",
       "      <td>Rs. 10795</td>\n",
       "    </tr>\n",
       "    <tr>\n",
       "      <th>4</th>\n",
       "      <td>PUMA Motorsport</td>\n",
       "      <td>Mercedes AMG Petronas F1 Shoes</td>\n",
       "      <td>Rs. 9349Rs. 10999(15% OFF)</td>\n",
       "    </tr>\n",
       "    <tr>\n",
       "      <th>...</th>\n",
       "      <td>...</td>\n",
       "      <td>...</td>\n",
       "      <td>...</td>\n",
       "    </tr>\n",
       "    <tr>\n",
       "      <th>95</th>\n",
       "      <td>Tommy Hilfiger</td>\n",
       "      <td>Women Leather Kitten Sandals</td>\n",
       "      <td>Rs. 7199Rs. 7999(10% OFF)</td>\n",
       "    </tr>\n",
       "    <tr>\n",
       "      <th>96</th>\n",
       "      <td>Tommy Hilfiger</td>\n",
       "      <td>Women Solid Slim Heel Sandals</td>\n",
       "      <td>Rs. 7299</td>\n",
       "    </tr>\n",
       "    <tr>\n",
       "      <th>97</th>\n",
       "      <td>ROSSO BRUNELLO</td>\n",
       "      <td>Men Solid Leather Formal Derbys</td>\n",
       "      <td>Rs. 8799Rs. 10999(20% OFF)</td>\n",
       "    </tr>\n",
       "    <tr>\n",
       "      <th>98</th>\n",
       "      <td>Columbia</td>\n",
       "      <td>Women REDMOND V2 TrekkingShoe</td>\n",
       "      <td>Rs. 7999</td>\n",
       "    </tr>\n",
       "    <tr>\n",
       "      <th>99</th>\n",
       "      <td>Columbia</td>\n",
       "      <td>PEAKFREAK OUTDRY Trekking Shoe</td>\n",
       "      <td>Rs. 9999</td>\n",
       "    </tr>\n",
       "  </tbody>\n",
       "</table>\n",
       "<p>100 rows × 3 columns</p>\n",
       "</div>"
      ],
      "text/plain": [
       "              Brand              Product Description  \\\n",
       "0              Nike   Men ZOOM WINFLO8 Running Shoes   \n",
       "1              Nike     Men React Infinity 3 Running   \n",
       "2              Nike     Lebron Witness VI Basketball   \n",
       "3              Nike       Men Colourblocked Sneakers   \n",
       "4   PUMA Motorsport   Mercedes AMG Petronas F1 Shoes   \n",
       "..              ...                              ...   \n",
       "95   Tommy Hilfiger     Women Leather Kitten Sandals   \n",
       "96   Tommy Hilfiger    Women Solid Slim Heel Sandals   \n",
       "97   ROSSO BRUNELLO  Men Solid Leather Formal Derbys   \n",
       "98         Columbia    Women REDMOND V2 TrekkingShoe   \n",
       "99         Columbia   PEAKFREAK OUTDRY Trekking Shoe   \n",
       "\n",
       "                         Price  \n",
       "0     Rs. 7880Rs. 8295(5% OFF)  \n",
       "1   Rs. 13295Rs. 13995(5% OFF)  \n",
       "2                     Rs. 8295  \n",
       "3                    Rs. 10795  \n",
       "4   Rs. 9349Rs. 10999(15% OFF)  \n",
       "..                         ...  \n",
       "95   Rs. 7199Rs. 7999(10% OFF)  \n",
       "96                    Rs. 7299  \n",
       "97  Rs. 8799Rs. 10999(20% OFF)  \n",
       "98                    Rs. 7999  \n",
       "99                    Rs. 9999  \n",
       "\n",
       "[100 rows x 3 columns]"
      ]
     },
     "execution_count": 110,
     "metadata": {},
     "output_type": "execute_result"
    }
   ],
   "source": [
    "data_shoes=list(zip(shoes_brand,shoes_description,shoe_price))\n",
    "data_shoes_df=pd.DataFrame(data_shoes,columns=[\"Brand\",\"Product Description\",\"Price\"])\n",
    "data_shoes_df"
   ]
  },
  {
   "cell_type": "code",
   "execution_count": 61,
   "id": "c615c146",
   "metadata": {},
   "outputs": [],
   "source": [
    "#Q-8\n",
    "driver8=webdriver.Chrome(r\"D:\\Software\\chromedriver_win32\\chromedriver.exe\")\n",
    "driver8.get(\"https://www.amazon.in/\")"
   ]
  },
  {
   "cell_type": "code",
   "execution_count": 62,
   "id": "1a6d639b",
   "metadata": {},
   "outputs": [],
   "source": [
    "product_laptop=driver8.find_element(By.CLASS_NAME,\"nav-input\")\n",
    "product_laptop.send_keys('Laptop')"
   ]
  },
  {
   "cell_type": "code",
   "execution_count": 63,
   "id": "124fe8f4",
   "metadata": {},
   "outputs": [],
   "source": [
    "search_laptop=driver8.find_element(By.XPATH,'/html/body/div[1]/header/div/div[1]/div[2]/div/form/div[3]/div/span/input')\n",
    "search_laptop.click()"
   ]
  },
  {
   "cell_type": "code",
   "execution_count": 64,
   "id": "114cbda9",
   "metadata": {},
   "outputs": [],
   "source": [
    "filter_cpu_type = driver8.find_element(By.XPATH,'/html/body/div[1]/div[2]/div[1]/div[2]/div/div[3]/span/div[1]/div/div/div[6]/ul[4]/li[12]/span/a/div/label/i')\n",
    "filter_cpu_type.click()\n"
   ]
  },
  {
   "cell_type": "code",
   "execution_count": 65,
   "id": "32150322",
   "metadata": {},
   "outputs": [],
   "source": [
    "laptop_title=[]\n",
    "laptop_rating=[]\n",
    "laptop_price=[]\n",
    "\n",
    "lap_title=driver8.find_elements(By.XPATH,'//h2[@class=\"a-size-mini a-spacing-none a-color-base s-line-clamp-2\"]')\n",
    "for i in lap_title[0:10]:\n",
    "    laptop_title.append(i.text)\n",
    "    \n",
    "lap_price=driver8.find_elements(By.XPATH,'//span[@class=\"a-price-whole\"]')\n",
    "for i in lap_price[0:10]:\n",
    "    laptop_price.append(i.text)\n",
    "        \n",
    "lap_rating=driver8.find_elements(By.XPATH,'//span[@class=\"a-icon-alt\"]')\n",
    "for i in lap_rating[0:10]:\n",
    "    laptop_rating.append(i.text)    \n",
    "    \n",
    "#lap_price=driver8.find_elements(By.XPATH,'//span[@class=\"a-price-whole\"]')\n",
    "#for i in price:\n",
    "    #shoe_price.append(i.text)"
   ]
  },
  {
   "cell_type": "code",
   "execution_count": 66,
   "id": "bfa2f852",
   "metadata": {},
   "outputs": [
    {
     "name": "stdout",
     "output_type": "stream",
     "text": [
      "10 10 10\n"
     ]
    }
   ],
   "source": [
    "print(len(laptop_title),len(laptop_price),len(laptop_rating))"
   ]
  },
  {
   "cell_type": "code",
   "execution_count": 67,
   "id": "72dbf67d",
   "metadata": {},
   "outputs": [
    {
     "data": {
      "text/html": [
       "<div>\n",
       "<style scoped>\n",
       "    .dataframe tbody tr th:only-of-type {\n",
       "        vertical-align: middle;\n",
       "    }\n",
       "\n",
       "    .dataframe tbody tr th {\n",
       "        vertical-align: top;\n",
       "    }\n",
       "\n",
       "    .dataframe thead th {\n",
       "        text-align: right;\n",
       "    }\n",
       "</style>\n",
       "<table border=\"1\" class=\"dataframe\">\n",
       "  <thead>\n",
       "    <tr style=\"text-align: right;\">\n",
       "      <th></th>\n",
       "      <th>Laptop Title</th>\n",
       "      <th>Price</th>\n",
       "      <th>Rating</th>\n",
       "    </tr>\n",
       "  </thead>\n",
       "  <tbody>\n",
       "    <tr>\n",
       "      <th>0</th>\n",
       "      <td>Lenovo IdeaPad Slim 5 Intel Core i7 12th Gen 1...</td>\n",
       "      <td>82,990</td>\n",
       "      <td></td>\n",
       "    </tr>\n",
       "    <tr>\n",
       "      <th>1</th>\n",
       "      <td>Lenovo ThinkBook 15 Intel 11th Gen Core i7 15....</td>\n",
       "      <td>80,790</td>\n",
       "      <td></td>\n",
       "    </tr>\n",
       "    <tr>\n",
       "      <th>2</th>\n",
       "      <td>Lenovo ThinkPad E14 Intel Core i7 11th Gen 14-...</td>\n",
       "      <td>94,990</td>\n",
       "      <td></td>\n",
       "    </tr>\n",
       "    <tr>\n",
       "      <th>3</th>\n",
       "      <td>Lenovo Yoga 7i 11th Gen Intel Core i7-1165G7 1...</td>\n",
       "      <td>1,06,999</td>\n",
       "      <td></td>\n",
       "    </tr>\n",
       "    <tr>\n",
       "      <th>4</th>\n",
       "      <td>HP Pavilion 14 12th Gen Intel Core i7 16GB SDR...</td>\n",
       "      <td>91,999</td>\n",
       "      <td></td>\n",
       "    </tr>\n",
       "    <tr>\n",
       "      <th>5</th>\n",
       "      <td>ASUS TUF Gaming F15 (2022), 15.6-inch (39.62 c...</td>\n",
       "      <td>1,09,990</td>\n",
       "      <td></td>\n",
       "    </tr>\n",
       "    <tr>\n",
       "      <th>6</th>\n",
       "      <td>DELL Alienware x14 Gaming Laptop, Intel i7-127...</td>\n",
       "      <td>2,00,490</td>\n",
       "      <td></td>\n",
       "    </tr>\n",
       "    <tr>\n",
       "      <th>7</th>\n",
       "      <td>ASUS TUF Dash F15 (2022), 15.6-inch (39.62 cms...</td>\n",
       "      <td>1,60,999</td>\n",
       "      <td></td>\n",
       "    </tr>\n",
       "    <tr>\n",
       "      <th>8</th>\n",
       "      <td>Lenovo Ideapad Gaming 3 Intel Core i7 10th Gen...</td>\n",
       "      <td>72,890</td>\n",
       "      <td></td>\n",
       "    </tr>\n",
       "    <tr>\n",
       "      <th>9</th>\n",
       "      <td>(Renewed) Lenovo Intel Core i7 5600U 12.5-Inch...</td>\n",
       "      <td>23,998</td>\n",
       "      <td></td>\n",
       "    </tr>\n",
       "  </tbody>\n",
       "</table>\n",
       "</div>"
      ],
      "text/plain": [
       "                                        Laptop Title     Price Rating\n",
       "0  Lenovo IdeaPad Slim 5 Intel Core i7 12th Gen 1...    82,990       \n",
       "1  Lenovo ThinkBook 15 Intel 11th Gen Core i7 15....    80,790       \n",
       "2  Lenovo ThinkPad E14 Intel Core i7 11th Gen 14-...    94,990       \n",
       "3  Lenovo Yoga 7i 11th Gen Intel Core i7-1165G7 1...  1,06,999       \n",
       "4  HP Pavilion 14 12th Gen Intel Core i7 16GB SDR...    91,999       \n",
       "5  ASUS TUF Gaming F15 (2022), 15.6-inch (39.62 c...  1,09,990       \n",
       "6  DELL Alienware x14 Gaming Laptop, Intel i7-127...  2,00,490       \n",
       "7  ASUS TUF Dash F15 (2022), 15.6-inch (39.62 cms...  1,60,999       \n",
       "8  Lenovo Ideapad Gaming 3 Intel Core i7 10th Gen...    72,890       \n",
       "9  (Renewed) Lenovo Intel Core i7 5600U 12.5-Inch...    23,998       "
      ]
     },
     "execution_count": 67,
     "metadata": {},
     "output_type": "execute_result"
    }
   ],
   "source": [
    "data_laptop=list(zip(laptop_title,laptop_price,laptop_rating))\n",
    "data_laptop_df=pd.DataFrame(data_laptop,columns=[\"Laptop Title\",\"Price\",\"Rating\"])\n",
    "data_laptop_df"
   ]
  },
  {
   "cell_type": "code",
   "execution_count": 74,
   "id": "607a1cd5",
   "metadata": {},
   "outputs": [],
   "source": [
    "#Q-9\n",
    "# driver connection\n",
    "driver9=webdriver.Chrome(r\"D:\\Software\\chromedriver_win32\\chromedriver.exe\")\n",
    "driver9.get(\"https://www.ambitionbox.com/\")"
   ]
  },
  {
   "cell_type": "code",
   "execution_count": 75,
   "id": "697411fc",
   "metadata": {},
   "outputs": [],
   "source": [
    "job_btn=driver9.find_element(By.XPATH,'/html/body/div/div/div/div[1]/header/nav/ul/li[5]')\n",
    "job_btn.click()"
   ]
  },
  {
   "cell_type": "code",
   "execution_count": 76,
   "id": "86b88970",
   "metadata": {},
   "outputs": [],
   "source": [
    "job_search=driver9.find_element(By.CLASS_NAME,\"input\")\n",
    "job_search.send_keys('Data Scientist')"
   ]
  },
  {
   "cell_type": "code",
   "execution_count": 77,
   "id": "1dfbe4d4",
   "metadata": {},
   "outputs": [],
   "source": [
    "search_btn=driver9.find_element(By.CLASS_NAME,'ab_btn')\n",
    "search_btn.click()"
   ]
  },
  {
   "cell_type": "code",
   "execution_count": 36,
   "id": "bd78e766",
   "metadata": {},
   "outputs": [],
   "source": [
    "location_filter=driver9.find_element(By.XPATH,'/html/body/div/div/div/div[2]/div[1]/div[2]/div[1]/div/div/div/div[2]/div[1]')\n",
    "location_filter.click()"
   ]
  },
  {
   "cell_type": "code",
   "execution_count": 37,
   "id": "b3a91197",
   "metadata": {},
   "outputs": [],
   "source": [
    "job_location_search=driver9.find_element(By.XPATH,'//*[@id=\"filters-row\"]/div/div/div[2]/div[2]/div/div[2]/input')\n",
    "job_location_search.send_keys('noida')\n"
   ]
  },
  {
   "cell_type": "code",
   "execution_count": 38,
   "id": "fa620ef3",
   "metadata": {},
   "outputs": [],
   "source": [
    "noida_cl=driver9.find_element(By.XPATH,'/html/body/div/div/div/div[2]/div[1]/div[2]/div[1]/div/div/div/div[2]/div[2]/div/div[3]/div[1]/div[1]/div/label')\n",
    "noida_cl.click()"
   ]
  },
  {
   "cell_type": "code",
   "execution_count": 46,
   "id": "6421b185",
   "metadata": {},
   "outputs": [],
   "source": [
    "data_titele=[]\n",
    "companay_name=[]\n",
    "\n",
    "title11=driver9.find_elements(By.XPATH,'//a[@class=\"title noclick\"]')\n",
    "for i in title11[0:10]:\n",
    "    data_titele.append(i.text)\n",
    "    \n",
    "companay=driver9.find_elements(By.XPATH,'//p[@class=\"company body-medium\"]')\n",
    "for i in companay[0:10]:\n",
    "    companay_name.append(i.text)\n",
    "        "
   ]
  },
  {
   "cell_type": "code",
   "execution_count": 47,
   "id": "6899ef54",
   "metadata": {},
   "outputs": [
    {
     "name": "stdout",
     "output_type": "stream",
     "text": [
      "10 10\n"
     ]
    }
   ],
   "source": [
    "print(len(data_titele),len(companay_name))"
   ]
  },
  {
   "cell_type": "code",
   "execution_count": 48,
   "id": "67262ccd",
   "metadata": {},
   "outputs": [
    {
     "data": {
      "text/html": [
       "<div>\n",
       "<style scoped>\n",
       "    .dataframe tbody tr th:only-of-type {\n",
       "        vertical-align: middle;\n",
       "    }\n",
       "\n",
       "    .dataframe tbody tr th {\n",
       "        vertical-align: top;\n",
       "    }\n",
       "\n",
       "    .dataframe thead th {\n",
       "        text-align: right;\n",
       "    }\n",
       "</style>\n",
       "<table border=\"1\" class=\"dataframe\">\n",
       "  <thead>\n",
       "    <tr style=\"text-align: right;\">\n",
       "      <th></th>\n",
       "      <th>Job Title</th>\n",
       "      <th>Companay Name</th>\n",
       "    </tr>\n",
       "  </thead>\n",
       "  <tbody>\n",
       "    <tr>\n",
       "      <th>0</th>\n",
       "      <td>Quality Engineer</td>\n",
       "      <td>Optum Global Solutions (India) Private Limited</td>\n",
       "    </tr>\n",
       "    <tr>\n",
       "      <th>1</th>\n",
       "      <td>Data Scientist- SAS Analyst</td>\n",
       "      <td>BARCLAYS GLOBAL SERVICE CENTRE PRIVATE LIMITED</td>\n",
       "    </tr>\n",
       "    <tr>\n",
       "      <th>2</th>\n",
       "      <td>EY GDS - Data Scientist (10-20 yrs)</td>\n",
       "      <td>EY GDS</td>\n",
       "    </tr>\n",
       "    <tr>\n",
       "      <th>3</th>\n",
       "      <td>Data Scientist</td>\n",
       "      <td>GLOBALLOGIC INDIA PRIVATE LIMITED</td>\n",
       "    </tr>\n",
       "    <tr>\n",
       "      <th>4</th>\n",
       "      <td>Hiring Data Scientist #productbasecompany #CBRE</td>\n",
       "      <td>CBRE South Asia Pvt Ltd</td>\n",
       "    </tr>\n",
       "    <tr>\n",
       "      <th>5</th>\n",
       "      <td>Hiring For Genpact-Data Scientist- Forecasting...</td>\n",
       "      <td>GENPACT India Private Limited</td>\n",
       "    </tr>\n",
       "    <tr>\n",
       "      <th>6</th>\n",
       "      <td>Genpact - Data Scientist - Forecasting/Python/...</td>\n",
       "      <td>Genpact</td>\n",
       "    </tr>\n",
       "    <tr>\n",
       "      <th>7</th>\n",
       "      <td>Data Scientist</td>\n",
       "      <td>Ericsson India Global Services Pvt. Ltd.</td>\n",
       "    </tr>\n",
       "    <tr>\n",
       "      <th>8</th>\n",
       "      <td>Data Scientist - Machine Learning Algorithms (...</td>\n",
       "      <td>Dew Solutions Pvt. Ltd.</td>\n",
       "    </tr>\n",
       "    <tr>\n",
       "      <th>9</th>\n",
       "      <td>Data Scientist</td>\n",
       "      <td>One97 Communications Limited</td>\n",
       "    </tr>\n",
       "  </tbody>\n",
       "</table>\n",
       "</div>"
      ],
      "text/plain": [
       "                                           Job Title  \\\n",
       "0                                   Quality Engineer   \n",
       "1                        Data Scientist- SAS Analyst   \n",
       "2                EY GDS - Data Scientist (10-20 yrs)   \n",
       "3                                     Data Scientist   \n",
       "4    Hiring Data Scientist #productbasecompany #CBRE   \n",
       "5  Hiring For Genpact-Data Scientist- Forecasting...   \n",
       "6  Genpact - Data Scientist - Forecasting/Python/...   \n",
       "7                                     Data Scientist   \n",
       "8  Data Scientist - Machine Learning Algorithms (...   \n",
       "9                                     Data Scientist   \n",
       "\n",
       "                                    Companay Name  \n",
       "0  Optum Global Solutions (India) Private Limited  \n",
       "1  BARCLAYS GLOBAL SERVICE CENTRE PRIVATE LIMITED  \n",
       "2                                          EY GDS  \n",
       "3               GLOBALLOGIC INDIA PRIVATE LIMITED  \n",
       "4                         CBRE South Asia Pvt Ltd  \n",
       "5                   GENPACT India Private Limited  \n",
       "6                                         Genpact  \n",
       "7        Ericsson India Global Services Pvt. Ltd.  \n",
       "8                         Dew Solutions Pvt. Ltd.  \n",
       "9                    One97 Communications Limited  "
      ]
     },
     "execution_count": 48,
     "metadata": {},
     "output_type": "execute_result"
    }
   ],
   "source": [
    "data_companay=list(zip(data_titele,companay_name))\n",
    "data_companay_df=pd.DataFrame(data_companay,columns=[\"Job Title\",\"Companay Name\"])\n",
    "data_companay_df"
   ]
  },
  {
   "cell_type": "code",
   "execution_count": 4,
   "id": "44ac4f2c",
   "metadata": {},
   "outputs": [],
   "source": [
    "#Q-10\n",
    "# driver connection\n",
    "driver10=webdriver.Chrome(r\"D:\\Software\\chromedriver_win32\\chromedriver.exe\")\n",
    "driver10.get(\"https://www.ambitionbox.com/\")"
   ]
  },
  {
   "cell_type": "code",
   "execution_count": 6,
   "id": "c1714125",
   "metadata": {},
   "outputs": [],
   "source": [
    "salary_option=driver10.find_element(By.XPATH,'//*[@id=\"ambitionbox-header\"]/nav/ul/li[3]')\n",
    "salary_option.click()\n"
   ]
  },
  {
   "cell_type": "code",
   "execution_count": 7,
   "id": "9a1778d0",
   "metadata": {},
   "outputs": [],
   "source": [
    "salary_option2=driver10.find_element(By.XPATH,'//*[@id=\"ambitionbox-header\"]/nav/ul/li[3]/div/ul/li[1]/div')\n",
    "salary_option2.click()"
   ]
  },
  {
   "cell_type": "code",
   "execution_count": 11,
   "id": "5fa26a04",
   "metadata": {},
   "outputs": [],
   "source": [
    "job_search1=driver10.find_element(By.XPATH,'/html/body/div/div/div/main/section[1]/div[2]/div[1]/span/input')\n",
    "job_search1.send_keys('Data Scientist')"
   ]
  },
  {
   "cell_type": "code",
   "execution_count": 12,
   "id": "af5bca1c",
   "metadata": {},
   "outputs": [],
   "source": [
    "select_job=driver10.find_element(By.XPATH,'/html/body/div/div/div/main/section[1]/div[2]/div[1]/span/div/div/div[1]')\n",
    "select_job.click()\n"
   ]
  },
  {
   "cell_type": "code",
   "execution_count": 30,
   "id": "b20e1a90",
   "metadata": {},
   "outputs": [
    {
     "name": "stdout",
     "output_type": "stream",
     "text": [
      "<class 'str'>\n",
      "Walmart\n",
      "Data Scientist Salary\n",
      "3-4 yrs experience (based on 23 salaries)\n",
      "['Walmart-Data']\n",
      "<class 'str'>\n",
      "Ab Inbev\n",
      "Data Scientist Salary\n",
      "2-4 yrs experience (based on 57 salaries)\n",
      "['Walmart-Data', 'Ab']\n",
      "<class 'str'>\n",
      "Optum\n",
      "Data Scientist Salary\n",
      "2-4 yrs experience (based on 49 salaries)\n",
      "['Walmart-Data', 'Ab', 'Optum-Data']\n",
      "<class 'str'>\n",
      "ZS\n",
      "Data Scientist Salary\n",
      "1-2 yrs experience (based on 34 salaries)\n",
      "['Walmart-Data', 'Ab', 'Optum-Data', 'ZS-Data']\n",
      "<class 'str'>\n",
      "Fractal Analytics\n",
      "Data Scientist Salary\n",
      "2-4 yrs experience (based on 115 salaries)\n",
      "['Walmart-Data', 'Ab', 'Optum-Data', 'ZS-Data', 'Fractal']\n",
      "<class 'str'>\n",
      "Tiger Analytics\n",
      "Data Scientist Salary\n",
      "2-4 yrs experience (based on 68 salaries)\n",
      "['Walmart-Data', 'Ab', 'Optum-Data', 'ZS-Data', 'Fractal', 'Tiger']\n",
      "<class 'str'>\n",
      "Sigmoid Analytics\n",
      "Data Scientist Salary\n",
      "1 yr experience (based on 10 salaries)\n",
      "['Walmart-Data', 'Ab', 'Optum-Data', 'ZS-Data', 'Fractal', 'Tiger', 'Sigmoid']\n",
      "<class 'str'>\n",
      "Legato Health Technologies\n",
      "Data Scientist Salary\n",
      "4 yrs experience (based on 11 salaries)\n",
      "['Walmart-Data', 'Ab', 'Optum-Data', 'ZS-Data', 'Fractal', 'Tiger', 'Sigmoid', 'Legato']\n",
      "<class 'str'>\n",
      "HSBC\n",
      "Data Scientist Salary\n",
      "4 yrs experience (based on 10 salaries)\n",
      "['Walmart-Data', 'Ab', 'Optum-Data', 'ZS-Data', 'Fractal', 'Tiger', 'Sigmoid', 'Legato', 'HSBC-Data']\n",
      "<class 'str'>\n",
      "Tredence\n",
      "Data Scientist Salary\n",
      "3 yrs experience (based on 14 salaries)\n",
      "['Walmart-Data', 'Ab', 'Optum-Data', 'ZS-Data', 'Fractal', 'Tiger', 'Sigmoid', 'Legato', 'HSBC-Data', 'Tredence-Data']\n"
     ]
    }
   ],
   "source": [
    "companay_namee=[]\n",
    "total_salary=[]\n",
    "average_salary=[]\n",
    "maximum_salary=[]\n",
    "min_salary=[]\n",
    "job_experience=[]\n",
    "\n",
    "\n",
    "companay_div=driver10.find_elements(By.XPATH,'//div[@class=\"company-info\"]')\n",
    "for i in companay_div[0:10]:\n",
    "    tpp=i.text\n",
    "    print(type(tpp))\n",
    "    print(i.text)\n",
    "    Type1 = tpp.split(\" \")\n",
    "    companay_namee.append(Type1[0].replace(\"\\n\",\"-\"))\n",
    "    print(companay_namee)\n",
    "    \n",
    "avg_salary=driver10.find_elements(By.XPATH,'//p[@class=\"averageCtc\"]')\n",
    "for i in avg_salary[0:10]:\n",
    "    #print(i.text)\n",
    "    average_salary.append(i.text)\n",
    "\n",
    "max_salary=driver10.find_elements(By.XPATH,'//div[@class=\"salary-values\"]')\n",
    "for i in max_salary[0:10]:\n",
    "    tp=i.text\n",
    "    #print(type(tp))\n",
    "    Type = tp.split(\" \")\n",
    "    min_salary.append(Type[1])\n",
    "    maximum_salary.append(Type[2]) \n",
    "    #print(min_salary)\n",
    "    #print(maximum_salary)\n",
    "\n",
    "experience=driver10.find_elements(By.XPATH,'//div[@class=\"sbold-list-header\"]')\n",
    "for i in experience[0:10]:\n",
    "    job_experience.append(i.text)\n",
    "    #print(job_experience)\n",
    "    "
   ]
  },
  {
   "cell_type": "code",
   "execution_count": 31,
   "id": "ac4c3be5",
   "metadata": {},
   "outputs": [
    {
     "data": {
      "text/html": [
       "<div>\n",
       "<style scoped>\n",
       "    .dataframe tbody tr th:only-of-type {\n",
       "        vertical-align: middle;\n",
       "    }\n",
       "\n",
       "    .dataframe tbody tr th {\n",
       "        vertical-align: top;\n",
       "    }\n",
       "\n",
       "    .dataframe thead th {\n",
       "        text-align: right;\n",
       "    }\n",
       "</style>\n",
       "<table border=\"1\" class=\"dataframe\">\n",
       "  <thead>\n",
       "    <tr style=\"text-align: right;\">\n",
       "      <th></th>\n",
       "      <th>Companay Name</th>\n",
       "      <th>Average Salary</th>\n",
       "      <th>Maximum Salary</th>\n",
       "      <th>Minimum Salary</th>\n",
       "      <th>Experience</th>\n",
       "    </tr>\n",
       "  </thead>\n",
       "  <tbody>\n",
       "    <tr>\n",
       "      <th>0</th>\n",
       "      <td>Walmart-Data</td>\n",
       "      <td>₹ 32.3L</td>\n",
       "      <td>45.0L</td>\n",
       "      <td>25.0L\\n₹</td>\n",
       "      <td>3-4 yrs experience (based on 23 salaries)</td>\n",
       "    </tr>\n",
       "    <tr>\n",
       "      <th>1</th>\n",
       "      <td>Ab</td>\n",
       "      <td>₹ 19.9L</td>\n",
       "      <td>26.0L</td>\n",
       "      <td>15.0L\\n₹</td>\n",
       "      <td>2-4 yrs experience (based on 57 salaries)</td>\n",
       "    </tr>\n",
       "    <tr>\n",
       "      <th>2</th>\n",
       "      <td>Optum-Data</td>\n",
       "      <td>₹ 16.4L</td>\n",
       "      <td>22.6L</td>\n",
       "      <td>11.0L\\n₹</td>\n",
       "      <td>2-4 yrs experience (based on 49 salaries)</td>\n",
       "    </tr>\n",
       "    <tr>\n",
       "      <th>3</th>\n",
       "      <td>ZS-Data</td>\n",
       "      <td>₹ 15.8L</td>\n",
       "      <td>22.0L</td>\n",
       "      <td>11.0L\\n₹</td>\n",
       "      <td>1-2 yrs experience (based on 34 salaries)</td>\n",
       "    </tr>\n",
       "    <tr>\n",
       "      <th>4</th>\n",
       "      <td>Fractal</td>\n",
       "      <td>₹ 15.4L</td>\n",
       "      <td>23.0L</td>\n",
       "      <td>9.0L\\n₹</td>\n",
       "      <td>2-4 yrs experience (based on 115 salaries)</td>\n",
       "    </tr>\n",
       "    <tr>\n",
       "      <th>5</th>\n",
       "      <td>Tiger</td>\n",
       "      <td>₹ 14.7L</td>\n",
       "      <td>20.0L</td>\n",
       "      <td>9.0L\\n₹</td>\n",
       "      <td>2-4 yrs experience (based on 68 salaries)</td>\n",
       "    </tr>\n",
       "    <tr>\n",
       "      <th>6</th>\n",
       "      <td>Sigmoid</td>\n",
       "      <td>₹ 14.7L</td>\n",
       "      <td>19.7L</td>\n",
       "      <td>12.7L\\n₹</td>\n",
       "      <td>1 yr experience (based on 10 salaries)</td>\n",
       "    </tr>\n",
       "    <tr>\n",
       "      <th>7</th>\n",
       "      <td>Legato</td>\n",
       "      <td>₹ 14.5L</td>\n",
       "      <td>20.0L</td>\n",
       "      <td>11.0L\\n₹</td>\n",
       "      <td>4 yrs experience (based on 11 salaries)</td>\n",
       "    </tr>\n",
       "    <tr>\n",
       "      <th>8</th>\n",
       "      <td>HSBC-Data</td>\n",
       "      <td>₹ 14.0L</td>\n",
       "      <td>18.0L</td>\n",
       "      <td>12.0L\\n₹</td>\n",
       "      <td>4 yrs experience (based on 10 salaries)</td>\n",
       "    </tr>\n",
       "    <tr>\n",
       "      <th>9</th>\n",
       "      <td>Tredence-Data</td>\n",
       "      <td>₹ 13.9L</td>\n",
       "      <td>17.5L</td>\n",
       "      <td>8.8L\\n₹</td>\n",
       "      <td>3 yrs experience (based on 14 salaries)</td>\n",
       "    </tr>\n",
       "  </tbody>\n",
       "</table>\n",
       "</div>"
      ],
      "text/plain": [
       "   Companay Name Average Salary Maximum Salary Minimum Salary  \\\n",
       "0   Walmart-Data        ₹ 32.3L          45.0L       25.0L\\n₹   \n",
       "1             Ab        ₹ 19.9L          26.0L       15.0L\\n₹   \n",
       "2     Optum-Data        ₹ 16.4L          22.6L       11.0L\\n₹   \n",
       "3        ZS-Data        ₹ 15.8L          22.0L       11.0L\\n₹   \n",
       "4        Fractal        ₹ 15.4L          23.0L        9.0L\\n₹   \n",
       "5          Tiger        ₹ 14.7L          20.0L        9.0L\\n₹   \n",
       "6        Sigmoid        ₹ 14.7L          19.7L       12.7L\\n₹   \n",
       "7         Legato        ₹ 14.5L          20.0L       11.0L\\n₹   \n",
       "8      HSBC-Data        ₹ 14.0L          18.0L       12.0L\\n₹   \n",
       "9  Tredence-Data        ₹ 13.9L          17.5L        8.8L\\n₹   \n",
       "\n",
       "                                   Experience  \n",
       "0   3-4 yrs experience (based on 23 salaries)  \n",
       "1   2-4 yrs experience (based on 57 salaries)  \n",
       "2   2-4 yrs experience (based on 49 salaries)  \n",
       "3   1-2 yrs experience (based on 34 salaries)  \n",
       "4  2-4 yrs experience (based on 115 salaries)  \n",
       "5   2-4 yrs experience (based on 68 salaries)  \n",
       "6      1 yr experience (based on 10 salaries)  \n",
       "7     4 yrs experience (based on 11 salaries)  \n",
       "8     4 yrs experience (based on 10 salaries)  \n",
       "9     3 yrs experience (based on 14 salaries)  "
      ]
     },
     "execution_count": 31,
     "metadata": {},
     "output_type": "execute_result"
    }
   ],
   "source": [
    "data_companay_comp=list(zip(companay_namee,average_salary,maximum_salary,min_salary,job_experience))\n",
    "data_companay_comp_df=pd.DataFrame(data_companay_comp,columns=[\"Companay Name\",\"Average Salary\",\"Maximum Salary\",\"Minimum Salary\",\"Experience\"])\n",
    "data_companay_comp_df"
   ]
  },
  {
   "cell_type": "code",
   "execution_count": null,
   "id": "03693f1a",
   "metadata": {},
   "outputs": [],
   "source": []
  }
 ],
 "metadata": {
  "kernelspec": {
   "display_name": "Python 3 (ipykernel)",
   "language": "python",
   "name": "python3"
  },
  "language_info": {
   "codemirror_mode": {
    "name": "ipython",
    "version": 3
   },
   "file_extension": ".py",
   "mimetype": "text/x-python",
   "name": "python",
   "nbconvert_exporter": "python",
   "pygments_lexer": "ipython3",
   "version": "3.9.7"
  }
 },
 "nbformat": 4,
 "nbformat_minor": 5
}
