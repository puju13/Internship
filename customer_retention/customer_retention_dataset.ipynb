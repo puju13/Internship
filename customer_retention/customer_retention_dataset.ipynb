{
 "cells": [
  {
   "cell_type": "code",
   "execution_count": 92,
   "id": "89384b37",
   "metadata": {},
   "outputs": [],
   "source": [
    "#Load the required libraries\n",
    "import pandas as pd\n",
    "import numpy as np\n",
    "import seaborn as sns\n",
    "import matplotlib.pyplot as plt\n",
    "%matplotlib inline\n",
    "import warnings\n",
    "warnings.filterwarnings('ignore')"
   ]
  },
  {
   "cell_type": "code",
   "execution_count": 41,
   "id": "bd8cd324",
   "metadata": {},
   "outputs": [],
   "source": [
    "#Load the data\n",
    "customer_df = pd.read_excel (r'C:\\Users\\DELL\\Desktop\\Flip_Robo\\Task_06-10-22\\Customer_retention_dataset\\Customer_retention_dataset\\customer_retention_dataset.xlsx', sheet_name='datasheet')\n"
   ]
  },
  {
   "cell_type": "code",
   "execution_count": 42,
   "id": "abcaf352",
   "metadata": {},
   "outputs": [
    {
     "data": {
      "text/html": [
       "<div>\n",
       "<style scoped>\n",
       "    .dataframe tbody tr th:only-of-type {\n",
       "        vertical-align: middle;\n",
       "    }\n",
       "\n",
       "    .dataframe tbody tr th {\n",
       "        vertical-align: top;\n",
       "    }\n",
       "\n",
       "    .dataframe thead th {\n",
       "        text-align: right;\n",
       "    }\n",
       "</style>\n",
       "<table border=\"1\" class=\"dataframe\">\n",
       "  <thead>\n",
       "    <tr style=\"text-align: right;\">\n",
       "      <th></th>\n",
       "      <th>1Gender of respondent</th>\n",
       "      <th>2 How old are you?</th>\n",
       "      <th>3 Which city do you shop online from?</th>\n",
       "      <th>4 What is the Pin Code of where you shop online from?</th>\n",
       "      <th>5 Since How Long You are Shopping Online ?</th>\n",
       "      <th>6 How many times you have made an online purchase in the past 1 year?</th>\n",
       "      <th>7 How do you access the internet while shopping on-line?</th>\n",
       "      <th>8 Which device do you use to access the online shopping?</th>\n",
       "      <th>9 What is the screen size of your mobile device?\\t\\t\\t</th>\n",
       "      <th>10 What is the operating system (OS) of your device?\\t\\t\\t\\t</th>\n",
       "      <th>...</th>\n",
       "      <th>Longer time to get logged in (promotion, sales period)</th>\n",
       "      <th>Longer time in displaying graphics and photos (promotion, sales period)</th>\n",
       "      <th>Late declaration of price (promotion, sales period)</th>\n",
       "      <th>Longer page loading time (promotion, sales period)</th>\n",
       "      <th>Limited mode of payment on most products (promotion, sales period)</th>\n",
       "      <th>Longer delivery period</th>\n",
       "      <th>Change in website/Application design</th>\n",
       "      <th>Frequent disruption when moving from one page to another</th>\n",
       "      <th>Website is as efficient as before</th>\n",
       "      <th>Which of the Indian online retailer would you recommend to a friend?</th>\n",
       "    </tr>\n",
       "  </thead>\n",
       "  <tbody>\n",
       "    <tr>\n",
       "      <th>0</th>\n",
       "      <td>Male</td>\n",
       "      <td>31-40 years</td>\n",
       "      <td>Delhi</td>\n",
       "      <td>110009</td>\n",
       "      <td>Above 4 years</td>\n",
       "      <td>31-40 times</td>\n",
       "      <td>Dial-up</td>\n",
       "      <td>Desktop</td>\n",
       "      <td>Others</td>\n",
       "      <td>Window/windows Mobile</td>\n",
       "      <td>...</td>\n",
       "      <td>Amazon.in</td>\n",
       "      <td>Amazon.in</td>\n",
       "      <td>Flipkart.com</td>\n",
       "      <td>Flipkart.com</td>\n",
       "      <td>Amazon.in</td>\n",
       "      <td>Paytm.com</td>\n",
       "      <td>Flipkart.com</td>\n",
       "      <td>Amazon.in</td>\n",
       "      <td>Amazon.in</td>\n",
       "      <td>Flipkart.com</td>\n",
       "    </tr>\n",
       "    <tr>\n",
       "      <th>1</th>\n",
       "      <td>Female</td>\n",
       "      <td>21-30 years</td>\n",
       "      <td>Delhi</td>\n",
       "      <td>110030</td>\n",
       "      <td>Above 4 years</td>\n",
       "      <td>41 times and above</td>\n",
       "      <td>Wi-Fi</td>\n",
       "      <td>Smartphone</td>\n",
       "      <td>4.7 inches</td>\n",
       "      <td>IOS/Mac</td>\n",
       "      <td>...</td>\n",
       "      <td>Amazon.in, Flipkart.com</td>\n",
       "      <td>Myntra.com</td>\n",
       "      <td>snapdeal.com</td>\n",
       "      <td>Snapdeal.com</td>\n",
       "      <td>Snapdeal.com</td>\n",
       "      <td>Snapdeal.com</td>\n",
       "      <td>Amazon.in</td>\n",
       "      <td>Myntra.com</td>\n",
       "      <td>Amazon.in, Flipkart.com</td>\n",
       "      <td>Amazon.in, Myntra.com</td>\n",
       "    </tr>\n",
       "    <tr>\n",
       "      <th>2</th>\n",
       "      <td>Female</td>\n",
       "      <td>21-30 years</td>\n",
       "      <td>Greater Noida</td>\n",
       "      <td>201308</td>\n",
       "      <td>3-4 years</td>\n",
       "      <td>41 times and above</td>\n",
       "      <td>Mobile Internet</td>\n",
       "      <td>Smartphone</td>\n",
       "      <td>5.5 inches</td>\n",
       "      <td>Android</td>\n",
       "      <td>...</td>\n",
       "      <td>Myntra.com</td>\n",
       "      <td>Myntra.com</td>\n",
       "      <td>Myntra.com</td>\n",
       "      <td>Myntra.com</td>\n",
       "      <td>Amazon.in</td>\n",
       "      <td>Paytm.com</td>\n",
       "      <td>Paytm.com</td>\n",
       "      <td>Paytm.com</td>\n",
       "      <td>Amazon.in</td>\n",
       "      <td>Amazon.in, Paytm.com, Myntra.com</td>\n",
       "    </tr>\n",
       "    <tr>\n",
       "      <th>3</th>\n",
       "      <td>Male</td>\n",
       "      <td>21-30 years</td>\n",
       "      <td>Karnal</td>\n",
       "      <td>132001</td>\n",
       "      <td>3-4 years</td>\n",
       "      <td>Less than 10 times</td>\n",
       "      <td>Mobile Internet</td>\n",
       "      <td>Smartphone</td>\n",
       "      <td>5.5 inches</td>\n",
       "      <td>IOS/Mac</td>\n",
       "      <td>...</td>\n",
       "      <td>Snapdeal.com</td>\n",
       "      <td>Myntra.com, Snapdeal.com</td>\n",
       "      <td>Myntra.com</td>\n",
       "      <td>Paytm.com</td>\n",
       "      <td>Paytm.com</td>\n",
       "      <td>Paytm.com</td>\n",
       "      <td>Amazon.in, Flipkart.com</td>\n",
       "      <td>Amazon.in, Flipkart.com</td>\n",
       "      <td>Amazon.in, Flipkart.com, Paytm.com</td>\n",
       "      <td>Amazon.in, Flipkart.com</td>\n",
       "    </tr>\n",
       "    <tr>\n",
       "      <th>4</th>\n",
       "      <td>Female</td>\n",
       "      <td>21-30 years</td>\n",
       "      <td>Bangalore</td>\n",
       "      <td>530068</td>\n",
       "      <td>2-3 years</td>\n",
       "      <td>11-20 times</td>\n",
       "      <td>Wi-Fi</td>\n",
       "      <td>Smartphone</td>\n",
       "      <td>4.7 inches</td>\n",
       "      <td>IOS/Mac</td>\n",
       "      <td>...</td>\n",
       "      <td>Flipkart.com, Paytm.com</td>\n",
       "      <td>Paytm.com</td>\n",
       "      <td>Paytm.com</td>\n",
       "      <td>Paytm.com</td>\n",
       "      <td>Snapdeal.com</td>\n",
       "      <td>Paytm.com</td>\n",
       "      <td>Amazon.in</td>\n",
       "      <td>Snapdeal.com</td>\n",
       "      <td>Paytm.com</td>\n",
       "      <td>Amazon.in, Myntra.com</td>\n",
       "    </tr>\n",
       "    <tr>\n",
       "      <th>...</th>\n",
       "      <td>...</td>\n",
       "      <td>...</td>\n",
       "      <td>...</td>\n",
       "      <td>...</td>\n",
       "      <td>...</td>\n",
       "      <td>...</td>\n",
       "      <td>...</td>\n",
       "      <td>...</td>\n",
       "      <td>...</td>\n",
       "      <td>...</td>\n",
       "      <td>...</td>\n",
       "      <td>...</td>\n",
       "      <td>...</td>\n",
       "      <td>...</td>\n",
       "      <td>...</td>\n",
       "      <td>...</td>\n",
       "      <td>...</td>\n",
       "      <td>...</td>\n",
       "      <td>...</td>\n",
       "      <td>...</td>\n",
       "      <td>...</td>\n",
       "    </tr>\n",
       "    <tr>\n",
       "      <th>264</th>\n",
       "      <td>Female</td>\n",
       "      <td>21-30 years</td>\n",
       "      <td>Solan</td>\n",
       "      <td>173212</td>\n",
       "      <td>1-2 years</td>\n",
       "      <td>Less than 10 times</td>\n",
       "      <td>Mobile Internet</td>\n",
       "      <td>Smartphone</td>\n",
       "      <td>5.5 inches</td>\n",
       "      <td>Android</td>\n",
       "      <td>...</td>\n",
       "      <td>Amazon.in</td>\n",
       "      <td>Amazon.in</td>\n",
       "      <td>Amazon.in</td>\n",
       "      <td>Amazon.in</td>\n",
       "      <td>Amazon.in</td>\n",
       "      <td>Amazon.in</td>\n",
       "      <td>Amazon.in</td>\n",
       "      <td>Amazon.in</td>\n",
       "      <td>Amazon.in</td>\n",
       "      <td>Amazon.in</td>\n",
       "    </tr>\n",
       "    <tr>\n",
       "      <th>265</th>\n",
       "      <td>Female</td>\n",
       "      <td>31-40 years</td>\n",
       "      <td>Ghaziabad</td>\n",
       "      <td>201008</td>\n",
       "      <td>1-2 years</td>\n",
       "      <td>31-40 times</td>\n",
       "      <td>Mobile Internet</td>\n",
       "      <td>Smartphone</td>\n",
       "      <td>Others</td>\n",
       "      <td>Android</td>\n",
       "      <td>...</td>\n",
       "      <td>Flipkart.com</td>\n",
       "      <td>Flipkart.com</td>\n",
       "      <td>Flipkart.com</td>\n",
       "      <td>Flipkart.com</td>\n",
       "      <td>Flipkart.com</td>\n",
       "      <td>Flipkart.com</td>\n",
       "      <td>Flipkart.com</td>\n",
       "      <td>Flipkart.com</td>\n",
       "      <td>Flipkart.com</td>\n",
       "      <td>Flipkart.com</td>\n",
       "    </tr>\n",
       "    <tr>\n",
       "      <th>266</th>\n",
       "      <td>Female</td>\n",
       "      <td>41-50 yaers</td>\n",
       "      <td>Bangalore</td>\n",
       "      <td>560010</td>\n",
       "      <td>2-3 years</td>\n",
       "      <td>Less than 10 times</td>\n",
       "      <td>Mobile internet</td>\n",
       "      <td>Laptop</td>\n",
       "      <td>Others</td>\n",
       "      <td>Window/windows Mobile</td>\n",
       "      <td>...</td>\n",
       "      <td>Amazon.in</td>\n",
       "      <td>Snapdeal.com</td>\n",
       "      <td>Amazon.in</td>\n",
       "      <td>Snapdeal.com</td>\n",
       "      <td>Snapdeal.com</td>\n",
       "      <td>Snapdeal.com</td>\n",
       "      <td>Snapdeal.com</td>\n",
       "      <td>Snapdeal.com</td>\n",
       "      <td>Amazon.in</td>\n",
       "      <td>Amazon.in</td>\n",
       "    </tr>\n",
       "    <tr>\n",
       "      <th>267</th>\n",
       "      <td>Female</td>\n",
       "      <td>Less than 20 years</td>\n",
       "      <td>Solan</td>\n",
       "      <td>173229</td>\n",
       "      <td>2-3 years</td>\n",
       "      <td>Less than 10 times</td>\n",
       "      <td>Wi-Fi</td>\n",
       "      <td>Smartphone</td>\n",
       "      <td>5.5 inches</td>\n",
       "      <td>Android</td>\n",
       "      <td>...</td>\n",
       "      <td>Amazon.in</td>\n",
       "      <td>Amazon.in, Myntra.com, Snapdeal.com</td>\n",
       "      <td>Amazon.in</td>\n",
       "      <td>Amazon.in, Snapdeal.com</td>\n",
       "      <td>Amazon.in</td>\n",
       "      <td>Amazon.in</td>\n",
       "      <td>Amazon.in</td>\n",
       "      <td>Myntra.com, Snapdeal.com</td>\n",
       "      <td>Myntra.com, Snapdeal.com</td>\n",
       "      <td>Amazon.in</td>\n",
       "    </tr>\n",
       "    <tr>\n",
       "      <th>268</th>\n",
       "      <td>Female</td>\n",
       "      <td>41-50 yaers</td>\n",
       "      <td>Ghaziabad</td>\n",
       "      <td>201009</td>\n",
       "      <td>2-3 years</td>\n",
       "      <td>31-40 times</td>\n",
       "      <td>Mobile Internet</td>\n",
       "      <td>Smartphone</td>\n",
       "      <td>5.5 inches</td>\n",
       "      <td>Android</td>\n",
       "      <td>...</td>\n",
       "      <td>Amazon.in</td>\n",
       "      <td>Amazon.in</td>\n",
       "      <td>Amazon.in</td>\n",
       "      <td>Amazon.in</td>\n",
       "      <td>Amazon.in</td>\n",
       "      <td>Amazon.in</td>\n",
       "      <td>Amazon.in</td>\n",
       "      <td>Amazon.in</td>\n",
       "      <td>Amazon.in</td>\n",
       "      <td>Amazon.in</td>\n",
       "    </tr>\n",
       "  </tbody>\n",
       "</table>\n",
       "<p>269 rows × 71 columns</p>\n",
       "</div>"
      ],
      "text/plain": [
       "    1Gender of respondent 2 How old are you?   \\\n",
       "0                    Male         31-40 years   \n",
       "1                  Female         21-30 years   \n",
       "2                  Female         21-30 years   \n",
       "3                    Male         21-30 years   \n",
       "4                  Female         21-30 years   \n",
       "..                    ...                 ...   \n",
       "264                Female         21-30 years   \n",
       "265                Female         31-40 years   \n",
       "266                Female         41-50 yaers   \n",
       "267                Female  Less than 20 years   \n",
       "268                Female         41-50 yaers   \n",
       "\n",
       "    3 Which city do you shop online from?  \\\n",
       "0                                   Delhi   \n",
       "1                                   Delhi   \n",
       "2                           Greater Noida   \n",
       "3                                 Karnal    \n",
       "4                              Bangalore    \n",
       "..                                    ...   \n",
       "264                                 Solan   \n",
       "265                             Ghaziabad   \n",
       "266                            Bangalore    \n",
       "267                                 Solan   \n",
       "268                             Ghaziabad   \n",
       "\n",
       "     4 What is the Pin Code of where you shop online from?  \\\n",
       "0                                               110009       \n",
       "1                                               110030       \n",
       "2                                               201308       \n",
       "3                                               132001       \n",
       "4                                               530068       \n",
       "..                                                 ...       \n",
       "264                                             173212       \n",
       "265                                             201008       \n",
       "266                                             560010       \n",
       "267                                             173229       \n",
       "268                                             201009       \n",
       "\n",
       "    5 Since How Long You are Shopping Online ?  \\\n",
       "0                                Above 4 years   \n",
       "1                                Above 4 years   \n",
       "2                                    3-4 years   \n",
       "3                                    3-4 years   \n",
       "4                                    2-3 years   \n",
       "..                                         ...   \n",
       "264                                  1-2 years   \n",
       "265                                  1-2 years   \n",
       "266                                  2-3 years   \n",
       "267                                  2-3 years   \n",
       "268                                  2-3 years   \n",
       "\n",
       "    6 How many times you have made an online purchase in the past 1 year?  \\\n",
       "0                                          31-40 times                      \n",
       "1                                   41 times and above                      \n",
       "2                                   41 times and above                      \n",
       "3                                   Less than 10 times                      \n",
       "4                                          11-20 times                      \n",
       "..                                                 ...                      \n",
       "264                                 Less than 10 times                      \n",
       "265                                        31-40 times                      \n",
       "266                                 Less than 10 times                      \n",
       "267                                 Less than 10 times                      \n",
       "268                                        31-40 times                      \n",
       "\n",
       "    7 How do you access the internet while shopping on-line?  \\\n",
       "0                                              Dial-up         \n",
       "1                                                Wi-Fi         \n",
       "2                                      Mobile Internet         \n",
       "3                                      Mobile Internet         \n",
       "4                                                Wi-Fi         \n",
       "..                                                 ...         \n",
       "264                                    Mobile Internet         \n",
       "265                                    Mobile Internet         \n",
       "266                                    Mobile internet         \n",
       "267                                              Wi-Fi         \n",
       "268                                    Mobile Internet         \n",
       "\n",
       "    8 Which device do you use to access the online shopping?  \\\n",
       "0                                              Desktop         \n",
       "1                                           Smartphone         \n",
       "2                                           Smartphone         \n",
       "3                                           Smartphone         \n",
       "4                                           Smartphone         \n",
       "..                                                 ...         \n",
       "264                                         Smartphone         \n",
       "265                                         Smartphone         \n",
       "266                                             Laptop         \n",
       "267                                         Smartphone         \n",
       "268                                         Smartphone         \n",
       "\n",
       "    9 What is the screen size of your mobile device?\\t\\t\\t                                          \\\n",
       "0                                               Others                                               \n",
       "1                                           4.7 inches                                               \n",
       "2                                           5.5 inches                                               \n",
       "3                                           5.5 inches                                               \n",
       "4                                           4.7 inches                                               \n",
       "..                                                 ...                                               \n",
       "264                                         5.5 inches                                               \n",
       "265                                             Others                                               \n",
       "266                                             Others                                               \n",
       "267                                         5.5 inches                                               \n",
       "268                                         5.5 inches                                               \n",
       "\n",
       "    10 What is the operating system (OS) of your device?\\t\\t\\t\\t                                            \\\n",
       "0                                Window/windows Mobile                                                       \n",
       "1                                              IOS/Mac                                                       \n",
       "2                                              Android                                                       \n",
       "3                                              IOS/Mac                                                       \n",
       "4                                              IOS/Mac                                                       \n",
       "..                                                 ...                                                       \n",
       "264                                            Android                                                       \n",
       "265                                            Android                                                       \n",
       "266                              Window/windows Mobile                                                       \n",
       "267                                            Android                                                       \n",
       "268                                            Android                                                       \n",
       "\n",
       "     ... Longer time to get logged in (promotion, sales period)  \\\n",
       "0    ...                                          Amazon.in       \n",
       "1    ...                            Amazon.in, Flipkart.com       \n",
       "2    ...                                         Myntra.com       \n",
       "3    ...                                       Snapdeal.com       \n",
       "4    ...                            Flipkart.com, Paytm.com       \n",
       "..   ...                                                ...       \n",
       "264  ...                                          Amazon.in       \n",
       "265  ...                                       Flipkart.com       \n",
       "266  ...                                          Amazon.in       \n",
       "267  ...                                          Amazon.in       \n",
       "268  ...                                          Amazon.in       \n",
       "\n",
       "    Longer time in displaying graphics and photos (promotion, sales period)  \\\n",
       "0                                            Amazon.in                        \n",
       "1                                           Myntra.com                        \n",
       "2                                           Myntra.com                        \n",
       "3                             Myntra.com, Snapdeal.com                        \n",
       "4                                            Paytm.com                        \n",
       "..                                                 ...                        \n",
       "264                                          Amazon.in                        \n",
       "265                                       Flipkart.com                        \n",
       "266                                       Snapdeal.com                        \n",
       "267                Amazon.in, Myntra.com, Snapdeal.com                        \n",
       "268                                          Amazon.in                        \n",
       "\n",
       "    Late declaration of price (promotion, sales period)  \\\n",
       "0                                         Flipkart.com    \n",
       "1                                         snapdeal.com    \n",
       "2                                           Myntra.com    \n",
       "3                                           Myntra.com    \n",
       "4                                            Paytm.com    \n",
       "..                                                 ...    \n",
       "264                                          Amazon.in    \n",
       "265                                       Flipkart.com    \n",
       "266                                          Amazon.in    \n",
       "267                                          Amazon.in    \n",
       "268                                          Amazon.in    \n",
       "\n",
       "    Longer page loading time (promotion, sales period)  \\\n",
       "0                                         Flipkart.com   \n",
       "1                                         Snapdeal.com   \n",
       "2                                           Myntra.com   \n",
       "3                                            Paytm.com   \n",
       "4                                            Paytm.com   \n",
       "..                                                 ...   \n",
       "264                                          Amazon.in   \n",
       "265                                       Flipkart.com   \n",
       "266                                       Snapdeal.com   \n",
       "267                            Amazon.in, Snapdeal.com   \n",
       "268                                          Amazon.in   \n",
       "\n",
       "    Limited mode of payment on most products (promotion, sales period)  \\\n",
       "0                                            Amazon.in                   \n",
       "1                                         Snapdeal.com                   \n",
       "2                                            Amazon.in                   \n",
       "3                                            Paytm.com                   \n",
       "4                                         Snapdeal.com                   \n",
       "..                                                 ...                   \n",
       "264                                          Amazon.in                   \n",
       "265                                       Flipkart.com                   \n",
       "266                                       Snapdeal.com                   \n",
       "267                                          Amazon.in                   \n",
       "268                                          Amazon.in                   \n",
       "\n",
       "    Longer delivery period Change in website/Application design  \\\n",
       "0                Paytm.com                         Flipkart.com   \n",
       "1             Snapdeal.com                            Amazon.in   \n",
       "2                Paytm.com                            Paytm.com   \n",
       "3                Paytm.com              Amazon.in, Flipkart.com   \n",
       "4                Paytm.com                            Amazon.in   \n",
       "..                     ...                                  ...   \n",
       "264              Amazon.in                            Amazon.in   \n",
       "265           Flipkart.com                         Flipkart.com   \n",
       "266           Snapdeal.com                         Snapdeal.com   \n",
       "267              Amazon.in                            Amazon.in   \n",
       "268              Amazon.in                            Amazon.in   \n",
       "\n",
       "    Frequent disruption when moving from one page to another  \\\n",
       "0                                            Amazon.in         \n",
       "1                                           Myntra.com         \n",
       "2                                            Paytm.com         \n",
       "3                              Amazon.in, Flipkart.com         \n",
       "4                                         Snapdeal.com         \n",
       "..                                                 ...         \n",
       "264                                          Amazon.in         \n",
       "265                                       Flipkart.com         \n",
       "266                                       Snapdeal.com         \n",
       "267                           Myntra.com, Snapdeal.com         \n",
       "268                                          Amazon.in         \n",
       "\n",
       "      Website is as efficient as before  \\\n",
       "0                             Amazon.in   \n",
       "1               Amazon.in, Flipkart.com   \n",
       "2                             Amazon.in   \n",
       "3    Amazon.in, Flipkart.com, Paytm.com   \n",
       "4                             Paytm.com   \n",
       "..                                  ...   \n",
       "264                           Amazon.in   \n",
       "265                        Flipkart.com   \n",
       "266                           Amazon.in   \n",
       "267            Myntra.com, Snapdeal.com   \n",
       "268                           Amazon.in   \n",
       "\n",
       "    Which of the Indian online retailer would you recommend to a friend?  \n",
       "0                                         Flipkart.com                    \n",
       "1                                Amazon.in, Myntra.com                    \n",
       "2                     Amazon.in, Paytm.com, Myntra.com                    \n",
       "3                              Amazon.in, Flipkart.com                    \n",
       "4                                Amazon.in, Myntra.com                    \n",
       "..                                                 ...                    \n",
       "264                                          Amazon.in                    \n",
       "265                                       Flipkart.com                    \n",
       "266                                          Amazon.in                    \n",
       "267                                          Amazon.in                    \n",
       "268                                          Amazon.in                    \n",
       "\n",
       "[269 rows x 71 columns]"
      ]
     },
     "execution_count": 42,
     "metadata": {},
     "output_type": "execute_result"
    }
   ],
   "source": [
    "customer_df"
   ]
  },
  {
   "cell_type": "code",
   "execution_count": 17,
   "id": "d957f1d1",
   "metadata": {},
   "outputs": [
    {
     "name": "stdout",
     "output_type": "stream",
     "text": [
      "<class 'pandas.core.frame.DataFrame'>\n",
      "RangeIndex: 269 entries, 0 to 268\n",
      "Data columns (total 71 columns):\n",
      " #   Column                                                                                                                                                                                                          Non-Null Count  Dtype \n",
      "---  ------                                                                                                                                                                                                          --------------  ----- \n",
      " 0   1Gender of respondent                                                                                                                                                                                           269 non-null    object\n",
      " 1   2 How old are you?                                                                                                                                                                                              269 non-null    object\n",
      " 2   3 Which city do you shop online from?                                                                                                                                                                           269 non-null    object\n",
      " 3   4 What is the Pin Code of where you shop online from?                                                                                                                                                           269 non-null    int64 \n",
      " 4   5 Since How Long You are Shopping Online ?                                                                                                                                                                      269 non-null    object\n",
      " 5   6 How many times you have made an online purchase in the past 1 year?                                                                                                                                           269 non-null    object\n",
      " 6   7 How do you access the internet while shopping on-line?                                                                                                                                                        269 non-null    object\n",
      " 7   8 Which device do you use to access the online shopping?                                                                                                                                                        269 non-null    object\n",
      " 8   9 What is the screen size of your mobile device?\t\t\t\t\t\t                                                                                                                                                          269 non-null    object\n",
      " 9   10 What is the operating system (OS) of your device?\t\t\t\t                                                                                                                                                        269 non-null    object\n",
      " 10  11 What browser do you run on your device to access the website?\t\t\t                                                                                                                                             269 non-null    object\n",
      " 11  12 Which channel did you follow to arrive at your favorite online store for the first time?                                                                                                                     269 non-null    object\n",
      " 12  13 After first visit, how do you reach the online retail store?\t\t\t\t                                                                                                                                             269 non-null    object\n",
      " 13  14 How much time do you explore the e- retail store before making a purchase decision?                                                                                                                          269 non-null    object\n",
      " 14  15 What is your preferred payment Option?\t\t\t\t\t                                                                                                                                                                  269 non-null    object\n",
      " 15  16 How frequently do you abandon (selecting an items and leaving without making payment) your shopping cart?\t\t\t\t\t\t\t                                                                                             269 non-null    object\n",
      " 16  17 Why did you abandon the “Bag”, “Shopping Cart”?\t\t\t\t\t                                                                                                                                                         269 non-null    object\n",
      " 17  18 The content on the website must be easy to read and understand                                                                                                                                               269 non-null    object\n",
      " 18  19 Information on similar product to the one highlighted  is important for product comparison                                                                                                                   269 non-null    object\n",
      " 19  20 Complete information on listed seller and product being offered is important for purchase decision.                                                                                                          269 non-null    object\n",
      " 20  21 All relevant information on listed products must be stated clearly                                                                                                                                           269 non-null    object\n",
      " 21  22 Ease of navigation in website                                                                                                                                                                                269 non-null    object\n",
      " 22  23 Loading and processing speed                                                                                                                                                                                 269 non-null    object\n",
      " 23  24 User friendly Interface of the website                                                                                                                                                                       269 non-null    object\n",
      " 24  25 Convenient Payment methods                                                                                                                                                                                   269 non-null    object\n",
      " 25  26 Trust that the online retail store will fulfill its part of the transaction at the stipulated time                                                                                                           269 non-null    object\n",
      " 26  27 Empathy (readiness to assist with queries) towards the customers                                                                                                                                             269 non-null    object\n",
      " 27  28 Being able to guarantee the privacy of the customer                                                                                                                                                          269 non-null    object\n",
      " 28  29 Responsiveness, availability of several communication channels (email, online rep, twitter, phone etc.)                                                                                                      269 non-null    object\n",
      " 29  30 Online shopping gives monetary benefit and discounts                                                                                                                                                         269 non-null    object\n",
      " 30  31 Enjoyment is derived from shopping online                                                                                                                                                                    269 non-null    object\n",
      " 31  32 Shopping online is convenient and flexible                                                                                                                                                                   269 non-null    object\n",
      " 32  33 Return and replacement policy of the e-tailer is important for purchase decision                                                                                                                             269 non-null    object\n",
      " 33  34 Gaining access to loyalty programs is a benefit of shopping online                                                                                                                                           269 non-null    object\n",
      " 34  35 Displaying quality Information on the website improves satisfaction of customers                                                                                                                             269 non-null    object\n",
      " 35  36 User derive satisfaction while shopping on a good quality website or application                                                                                                                             269 non-null    object\n",
      " 36  37 Net Benefit derived from shopping online can lead to users satisfaction                                                                                                                                      269 non-null    object\n",
      " 37  38 User satisfaction cannot exist without trust                                                                                                                                                                 269 non-null    object\n",
      " 38  39 Offering a wide variety of listed product in several category                                                                                                                                                269 non-null    object\n",
      " 39  40 Provision of complete and relevant product information                                                                                                                                                       269 non-null    object\n",
      " 40  41 Monetary savings                                                                                                                                                                                             269 non-null    object\n",
      " 41  42 The Convenience of patronizing the online retailer                                                                                                                                                           269 non-null    object\n",
      " 42  43 Shopping on the website gives you the sense of adventure                                                                                                                                                     269 non-null    object\n",
      " 43  44 Shopping on your preferred e-tailer enhances your social status                                                                                                                                              269 non-null    object\n",
      " 44  45 You feel gratification shopping on your favorite e-tailer                                                                                                                                                    269 non-null    object\n",
      " 45  46 Shopping on the website helps you fulfill certain roles                                                                                                                                                      269 non-null    object\n",
      " 46  47 Getting value for money spent                                                                                                                                                                                269 non-null    object\n",
      " 47  From the following, tick any (or all) of the online retailers you have shopped from;                                                                                                                            269 non-null    object\n",
      " 48  Easy to use website or application                                                                                                                                                                              269 non-null    object\n",
      " 49  Visual appealing web-page layout                                                                                                                                                                                269 non-null    object\n",
      " 50  Wild variety of product on offer                                                                                                                                                                                269 non-null    object\n",
      " 51  Complete, relevant description information of products                                                                                                                                                          269 non-null    object\n",
      " 52  Fast loading website speed of website and application                                                                                                                                                           269 non-null    object\n",
      " 53  Reliability of the website or application                                                                                                                                                                       269 non-null    object\n",
      " 54  Quickness to complete purchase                                                                                                                                                                                  269 non-null    object\n",
      " 55  Availability of several payment options                                                                                                                                                                         269 non-null    object\n",
      " 56  Speedy order delivery                                                                                                                                                                                           269 non-null    object\n",
      " 57  Privacy of customers’ information                                                                                                                                                                               269 non-null    object\n",
      " 58  Security of customer financial information                                                                                                                                                                      269 non-null    object\n",
      " 59  Perceived Trustworthiness                                                                                                                                                                                       269 non-null    object\n",
      " 60  Presence of online assistance through multi-channel                                                                                                                                                             269 non-null    object\n",
      " 61  Longer time to get logged in (promotion, sales period)                                                                                                                                                          269 non-null    object\n",
      " 62  Longer time in displaying graphics and photos (promotion, sales period)                                                                                                                                         269 non-null    object\n",
      " 63  Late declaration of price (promotion, sales period)                                                                                                                                                             269 non-null    object\n",
      " 64  Longer page loading time (promotion, sales period)                                                                                                                                                              269 non-null    object\n",
      " 65  Limited mode of payment on most products (promotion, sales period)                                                                                                                                              269 non-null    object\n",
      " 66  Longer delivery period                                                                                                                                                                                          269 non-null    object\n",
      " 67  Change in website/Application design                                                                                                                                                                            269 non-null    object\n",
      " 68  Frequent disruption when moving from one page to another                                                                                                                                                        269 non-null    object\n",
      " 69  Website is as efficient as before                                                                                                                                                                               269 non-null    object\n",
      " 70  Which of the Indian online retailer would you recommend to a friend?                                                                                                                                            269 non-null    object\n",
      "dtypes: int64(1), object(70)\n",
      "memory usage: 149.3+ KB\n"
     ]
    }
   ],
   "source": [
    "customer_df.info()"
   ]
  },
  {
   "cell_type": "code",
   "execution_count": 18,
   "id": "c787ce43",
   "metadata": {},
   "outputs": [
    {
     "data": {
      "text/plain": [
       "166"
      ]
     },
     "execution_count": 18,
     "metadata": {},
     "output_type": "execute_result"
    }
   ],
   "source": [
    "#Find the duplicates\n",
    "customer_df.duplicated().sum()"
   ]
  },
  {
   "cell_type": "code",
   "execution_count": 69,
   "id": "1bae0f93",
   "metadata": {},
   "outputs": [
    {
     "data": {
      "text/plain": [
       "1Gender of respondent                                                   0\n",
       "2 How old are you?                                                      0\n",
       "3 Which city do you shop online from?                                   0\n",
       "4 What is the Pin Code of where you shop online from?                   0\n",
       "5 Since How Long You are Shopping Online ?                              0\n",
       "                                                                       ..\n",
       "Longer delivery period                                                  0\n",
       "Change in website/Application design                                    0\n",
       "Frequent disruption when moving from one page to another                0\n",
       "Website is as efficient as before                                       0\n",
       "Which of the Indian online retailer would you recommend to a friend?    0\n",
       "Length: 71, dtype: int64"
      ]
     },
     "execution_count": 69,
     "metadata": {},
     "output_type": "execute_result"
    }
   ],
   "source": [
    "customer_df.isnull().sum()"
   ]
  },
  {
   "cell_type": "code",
   "execution_count": 72,
   "id": "43652834",
   "metadata": {},
   "outputs": [
    {
     "data": {
      "text/plain": [
       "Index(['1Gender of respondent', '2 How old are you? ',\n",
       "       '3 Which city do you shop online from?',\n",
       "       '4 What is the Pin Code of where you shop online from?',\n",
       "       '5 Since How Long You are Shopping Online ?',\n",
       "       '6 How many times you have made an online purchase in the past 1 year?',\n",
       "       '7 How do you access the internet while shopping on-line?',\n",
       "       '8 Which device do you use to access the online shopping?',\n",
       "       '9 What is the screen size of your mobile device?\\t\\t\\t                                        ',\n",
       "       '10 What is the operating system (OS) of your device?\\t\\t\\t\\t                                          ',\n",
       "       '11 What browser do you run on your device to access the website?\\t\\t\\t                                                          ',\n",
       "       '12 Which channel did you follow to arrive at your favorite online store for the first time?                                                                   ',\n",
       "       '13 After first visit, how do you reach the online retail store?\\t\\t\\t\\t                                                   ',\n",
       "       '14 How much time do you explore the e- retail store before making a purchase decision?                                                                   ',\n",
       "       '15 What is your preferred payment Option?\\t\\t\\t\\t\\t                                                                                                                               ',\n",
       "       '16 How frequently do you abandon (selecting an items and leaving without making payment) your shopping cart?\\t\\t\\t\\t\\t\\t\\t                                                   ',\n",
       "       '17 Why did you abandon the “Bag”, “Shopping Cart”?\\t\\t\\t\\t\\t                                                                                                                                                       ',\n",
       "       '18 The content on the website must be easy to read and understand',\n",
       "       '19 Information on similar product to the one highlighted  is important for product comparison',\n",
       "       '20 Complete information on listed seller and product being offered is important for purchase decision.',\n",
       "       '21 All relevant information on listed products must be stated clearly',\n",
       "       '22 Ease of navigation in website', '23 Loading and processing speed',\n",
       "       '24 User friendly Interface of the website',\n",
       "       '25 Convenient Payment methods',\n",
       "       '26 Trust that the online retail store will fulfill its part of the transaction at the stipulated time',\n",
       "       '27 Empathy (readiness to assist with queries) towards the customers',\n",
       "       '28 Being able to guarantee the privacy of the customer',\n",
       "       '29 Responsiveness, availability of several communication channels (email, online rep, twitter, phone etc.)',\n",
       "       '30 Online shopping gives monetary benefit and discounts',\n",
       "       '31 Enjoyment is derived from shopping online',\n",
       "       '32 Shopping online is convenient and flexible',\n",
       "       '33 Return and replacement policy of the e-tailer is important for purchase decision',\n",
       "       '34 Gaining access to loyalty programs is a benefit of shopping online',\n",
       "       '35 Displaying quality Information on the website improves satisfaction of customers',\n",
       "       '36 User derive satisfaction while shopping on a good quality website or application',\n",
       "       '37 Net Benefit derived from shopping online can lead to users satisfaction',\n",
       "       '38 User satisfaction cannot exist without trust',\n",
       "       '39 Offering a wide variety of listed product in several category',\n",
       "       '40 Provision of complete and relevant product information',\n",
       "       '41 Monetary savings',\n",
       "       '42 The Convenience of patronizing the online retailer',\n",
       "       '43 Shopping on the website gives you the sense of adventure',\n",
       "       '44 Shopping on your preferred e-tailer enhances your social status',\n",
       "       '45 You feel gratification shopping on your favorite e-tailer',\n",
       "       '46 Shopping on the website helps you fulfill certain roles',\n",
       "       '47 Getting value for money spent',\n",
       "       'From the following, tick any (or all) of the online retailers you have shopped from;                                                                           ',\n",
       "       'Easy to use website or application',\n",
       "       'Visual appealing web-page layout', 'Wild variety of product on offer',\n",
       "       'Complete, relevant description information of products',\n",
       "       'Fast loading website speed of website and application',\n",
       "       'Reliability of the website or application',\n",
       "       'Quickness to complete purchase',\n",
       "       'Availability of several payment options', 'Speedy order delivery ',\n",
       "       'Privacy of customers’ information',\n",
       "       'Security of customer financial information',\n",
       "       'Perceived Trustworthiness',\n",
       "       'Presence of online assistance through multi-channel',\n",
       "       'Longer time to get logged in (promotion, sales period)',\n",
       "       'Longer time in displaying graphics and photos (promotion, sales period)',\n",
       "       'Late declaration of price (promotion, sales period)',\n",
       "       'Longer page loading time (promotion, sales period)',\n",
       "       'Limited mode of payment on most products (promotion, sales period)',\n",
       "       'Longer delivery period', 'Change in website/Application design',\n",
       "       'Frequent disruption when moving from one page to another',\n",
       "       'Website is as efficient as before',\n",
       "       'Which of the Indian online retailer would you recommend to a friend?'],\n",
       "      dtype='object')"
      ]
     },
     "execution_count": 72,
     "metadata": {},
     "output_type": "execute_result"
    }
   ],
   "source": [
    "customer_df.columns\n"
   ]
  },
  {
   "cell_type": "code",
   "execution_count": 73,
   "id": "1f41119b",
   "metadata": {},
   "outputs": [
    {
     "ename": "SyntaxError",
     "evalue": "invalid syntax (Temp/ipykernel_9376/2591878870.py, line 1)",
     "output_type": "error",
     "traceback": [
      "\u001b[1;36m  File \u001b[1;32m\"C:\\Users\\DELL\\AppData\\Local\\Temp/ipykernel_9376/2591878870.py\"\u001b[1;36m, line \u001b[1;32m1\u001b[0m\n\u001b[1;33m    customer_df.46 Shopping on the website helps you fulfill certain roles.value_counts()\u001b[0m\n\u001b[1;37m               ^\u001b[0m\n\u001b[1;31mSyntaxError\u001b[0m\u001b[1;31m:\u001b[0m invalid syntax\n"
     ]
    }
   ],
   "source": []
  },
  {
   "cell_type": "code",
   "execution_count": 19,
   "id": "19ba3467",
   "metadata": {},
   "outputs": [
    {
     "data": {
      "text/plain": [
       "array(['Male', 'Female'], dtype=object)"
      ]
     },
     "execution_count": 19,
     "metadata": {},
     "output_type": "execute_result"
    }
   ],
   "source": [
    "customer_df['1Gender of respondent'].unique()"
   ]
  },
  {
   "cell_type": "code",
   "execution_count": 24,
   "id": "b77cff01",
   "metadata": {},
   "outputs": [
    {
     "data": {
      "text/plain": [
       "array(['Delhi', 'Greater Noida', 'Karnal ', 'Bangalore ', 'Noida',\n",
       "       'Solan', 'Moradabad', 'Gurgaon ', 'Merrut', 'Ghaziabad',\n",
       "       'Bulandshahr'], dtype=object)"
      ]
     },
     "execution_count": 24,
     "metadata": {},
     "output_type": "execute_result"
    }
   ],
   "source": [
    "customer_df['3 Which city do you shop online from?'].unique()"
   ]
  },
  {
   "cell_type": "code",
   "execution_count": 25,
   "id": "c153861f",
   "metadata": {},
   "outputs": [
    {
     "data": {
      "text/plain": [
       "array([110009, 110030, 201308, 132001, 530068, 110011, 110018, 173229,\n",
       "       110039, 244001, 122018, 201310, 560037, 203207, 250001, 201005,\n",
       "       110044, 201306, 560010, 201305, 110042, 132036, 560018, 110008,\n",
       "       560002, 201303, 201312, 203202, 560001, 201304, 560003, 110014,\n",
       "       560013, 173212, 122009, 201009, 201008, 201001, 203001],\n",
       "      dtype=int64)"
      ]
     },
     "execution_count": 25,
     "metadata": {},
     "output_type": "execute_result"
    }
   ],
   "source": [
    "customer_df['4 What is the Pin Code of where you shop online from?'].unique()\n"
   ]
  },
  {
   "cell_type": "code",
   "execution_count": 26,
   "id": "eb267dd0",
   "metadata": {},
   "outputs": [
    {
     "data": {
      "text/plain": [
       "array(['31-40 times', '41 times and above', 'Less than 10 times',\n",
       "       '11-20 times', '21-30 times', '42 times and above'], dtype=object)"
      ]
     },
     "execution_count": 26,
     "metadata": {},
     "output_type": "execute_result"
    }
   ],
   "source": [
    "customer_df['6 How many times you have made an online purchase in the past 1 year?'].unique()\n"
   ]
  },
  {
   "cell_type": "code",
   "execution_count": 27,
   "id": "cca5509b",
   "metadata": {},
   "outputs": [
    {
     "data": {
      "text/plain": [
       "array(['Dial-up', 'Wi-Fi', 'Mobile Internet', 'Mobile internet'],\n",
       "      dtype=object)"
      ]
     },
     "execution_count": 27,
     "metadata": {},
     "output_type": "execute_result"
    }
   ],
   "source": [
    "customer_df['7 How do you access the internet while shopping on-line?'].unique()"
   ]
  },
  {
   "cell_type": "code",
   "execution_count": 28,
   "id": "4b4a3075",
   "metadata": {},
   "outputs": [
    {
     "data": {
      "text/plain": [
       "array(['Desktop', 'Smartphone', 'Tablet', 'Laptop'], dtype=object)"
      ]
     },
     "execution_count": 28,
     "metadata": {},
     "output_type": "execute_result"
    }
   ],
   "source": [
    "customer_df['8 Which device do you use to access the online shopping?'].unique()"
   ]
  },
  {
   "cell_type": "code",
   "execution_count": 46,
   "id": "49a79a8d",
   "metadata": {},
   "outputs": [
    {
     "data": {
      "text/plain": [
       "array(['Agree (4)', 'Strongly agree (5)', 'Strongly disagree (1)',\n",
       "       'Indifferent (3)'], dtype=object)"
      ]
     },
     "execution_count": 46,
     "metadata": {},
     "output_type": "execute_result"
    }
   ],
   "source": [
    "customer_df['18 The content on the website must be easy to read and understand'].unique()"
   ]
  },
  {
   "cell_type": "code",
   "execution_count": 47,
   "id": "91aed844",
   "metadata": {},
   "outputs": [
    {
     "data": {
      "text/plain": [
       "array(['Indifferent (3)', 'Strongly agree (5)', 'Agree (4)',\n",
       "       'Dis-agree (2)'], dtype=object)"
      ]
     },
     "execution_count": 47,
     "metadata": {},
     "output_type": "execute_result"
    }
   ],
   "source": [
    "customer_df['19 Information on similar product to the one highlighted  is important for product comparison'].unique()"
   ]
  },
  {
   "cell_type": "code",
   "execution_count": 48,
   "id": "588a80ca",
   "metadata": {},
   "outputs": [
    {
     "data": {
      "text/plain": [
       "array(['Indifferent (3)', 'Strongly agree (5)', 'Agree (4)',\n",
       "       'Dis-agree (2)', 'Strongly disagree (1)'], dtype=object)"
      ]
     },
     "execution_count": 48,
     "metadata": {},
     "output_type": "execute_result"
    }
   ],
   "source": [
    "customer_df['20 Complete information on listed seller and product being offered is important for purchase decision.'].unique()"
   ]
  },
  {
   "cell_type": "code",
   "execution_count": 49,
   "id": "be9148d8",
   "metadata": {},
   "outputs": [
    {
     "data": {
      "text/plain": [
       "array(['Agree (4)', 'Strongly agree (5)', 'Strongly disagree (1)',\n",
       "       'Dis-agree (2)'], dtype=object)"
      ]
     },
     "execution_count": 49,
     "metadata": {},
     "output_type": "execute_result"
    }
   ],
   "source": [
    "customer_df['21 All relevant information on listed products must be stated clearly'].unique()"
   ]
  },
  {
   "cell_type": "code",
   "execution_count": 50,
   "id": "a83df698",
   "metadata": {},
   "outputs": [
    {
     "data": {
      "text/plain": [
       "array(['Agree (4)', 'Strongly agree (5)', 'Strongly disagree (1)',\n",
       "       'Dis-agree (2)'], dtype=object)"
      ]
     },
     "execution_count": 50,
     "metadata": {},
     "output_type": "execute_result"
    }
   ],
   "source": [
    "customer_df['22 Ease of navigation in website'].unique()"
   ]
  },
  {
   "cell_type": "code",
   "execution_count": 51,
   "id": "90d81f6a",
   "metadata": {},
   "outputs": [
    {
     "data": {
      "text/plain": [
       "array(['Strongly disagree (1)', 'Strongly agree (5)', 'Agree (4)',\n",
       "       'Dis-agree (2)', 'Indifferent (3)'], dtype=object)"
      ]
     },
     "execution_count": 51,
     "metadata": {},
     "output_type": "execute_result"
    }
   ],
   "source": [
    "customer_df['23 Loading and processing speed'].unique()\n"
   ]
  },
  {
   "cell_type": "code",
   "execution_count": 52,
   "id": "2ba58755",
   "metadata": {},
   "outputs": [
    {
     "data": {
      "text/plain": [
       "array(['Dis-agree (2)', 'Strongly agree (5)', 'Agree (4)',\n",
       "       'Strongly disagree (1)', 'Indifferent (3)'], dtype=object)"
      ]
     },
     "execution_count": 52,
     "metadata": {},
     "output_type": "execute_result"
    }
   ],
   "source": [
    "customer_df['24 User friendly Interface of the website'].unique()\n"
   ]
  },
  {
   "cell_type": "code",
   "execution_count": 53,
   "id": "ca9c19ab",
   "metadata": {},
   "outputs": [
    {
     "data": {
      "text/plain": [
       "array(['Dis-agree (2)', 'Strongly agree (5)', 'Agree (4)'], dtype=object)"
      ]
     },
     "execution_count": 53,
     "metadata": {},
     "output_type": "execute_result"
    }
   ],
   "source": [
    "customer_df['25 Convenient Payment methods'].unique()"
   ]
  },
  {
   "cell_type": "code",
   "execution_count": 54,
   "id": "e76c1771",
   "metadata": {},
   "outputs": [
    {
     "data": {
      "text/plain": [
       "array(['Agree (4)', 'Strongly agree (5)', 'indifferent (3)'], dtype=object)"
      ]
     },
     "execution_count": 54,
     "metadata": {},
     "output_type": "execute_result"
    }
   ],
   "source": [
    "customer_df['28 Being able to guarantee the privacy of the customer'].unique()"
   ]
  },
  {
   "cell_type": "code",
   "execution_count": 56,
   "id": "fb7a5443",
   "metadata": {},
   "outputs": [
    {
     "data": {
      "text/plain": [
       "array(['Agree (4)', 'Strongly agree (5)', 'indifferent (3)',\n",
       "       'Strongly disagree (1)'], dtype=object)"
      ]
     },
     "execution_count": 56,
     "metadata": {},
     "output_type": "execute_result"
    }
   ],
   "source": [
    "customer_df['29 Responsiveness, availability of several communication channels (email, online rep, twitter, phone etc.)'].unique()"
   ]
  },
  {
   "cell_type": "code",
   "execution_count": 81,
   "id": "148680ce",
   "metadata": {
    "scrolled": true
   },
   "outputs": [
    {
     "name": "stderr",
     "output_type": "stream",
     "text": [
      "C:\\Users\\DELL\\anaconda3\\lib\\site-packages\\seaborn\\_decorators.py:36: FutureWarning: Pass the following variable as a keyword arg: x. From version 0.12, the only valid positional argument will be `data`, and passing other arguments without an explicit keyword will result in an error or misinterpretation.\n",
      "  warnings.warn(\n"
     ]
    },
    {
     "data": {
      "text/plain": [
       "<AxesSubplot:xlabel='30 Online shopping gives monetary benefit and discounts', ylabel='count'>"
      ]
     },
     "execution_count": 81,
     "metadata": {},
     "output_type": "execute_result"
    },
    {
     "data": {
      "image/png": "[encoded data removed]",
      "text/plain": [
       "<Figure size 1080x360 with 1 Axes>"
      ]
     },
     "metadata": {
      "needs_background": "light"
     },
     "output_type": "display_data"
    }
   ],
   "source": [
    "#Plot the unique values\n",
    "plt.figure(figsize=(15,5))\n",
    "sns.countplot(customer_df['30 Online shopping gives monetary benefit and discounts'])"
   ]
  },
  {
   "cell_type": "code",
   "execution_count": 93,
   "id": "1055d354",
   "metadata": {},
   "outputs": [
    {
     "data": {
      "text/plain": [
       "<AxesSubplot:xlabel='32 Shopping online is convenient and flexible', ylabel='count'>"
      ]
     },
     "execution_count": 93,
     "metadata": {},
     "output_type": "execute_result"
    },
    {
     "data": {
      "image/png": "[encoded data removed]",
      "text/plain": [
       "<Figure size 432x288 with 1 Axes>"
      ]
     },
     "metadata": {
      "needs_background": "light"
     },
     "output_type": "display_data"
    }
   ],
   "source": [
    "sns.countplot(customer_df['32 Shopping online is convenient and flexible'])"
   ]
  },
  {
   "cell_type": "code",
   "execution_count": 94,
   "id": "4ad457eb",
   "metadata": {},
   "outputs": [
    {
     "data": {
      "text/plain": [
       "<AxesSubplot:xlabel='33 Return and replacement policy of the e-tailer is important for purchase decision', ylabel='count'>"
      ]
     },
     "execution_count": 94,
     "metadata": {},
     "output_type": "execute_result"
    },
    {
     "data": {
      "image/png": "[encoded data removed]",
      "text/plain": [
       "<Figure size 432x288 with 1 Axes>"
      ]
     },
     "metadata": {
      "needs_background": "light"
     },
     "output_type": "display_data"
    }
   ],
   "source": [
    "sns.countplot(customer_df['33 Return and replacement policy of the e-tailer is important for purchase decision'])"
   ]
  },
  {
   "cell_type": "code",
   "execution_count": 95,
   "id": "a3976fb1",
   "metadata": {},
   "outputs": [
    {
     "data": {
      "text/plain": [
       "<AxesSubplot:xlabel='34 Gaining access to loyalty programs is a benefit of shopping online', ylabel='count'>"
      ]
     },
     "execution_count": 95,
     "metadata": {},
     "output_type": "execute_result"
    },
    {
     "data": {
      "image/png": "[encoded data removed]",
      "text/plain": [
       "<Figure size 1080x360 with 1 Axes>"
      ]
     },
     "metadata": {
      "needs_background": "light"
     },
     "output_type": "display_data"
    }
   ],
   "source": [
    "plt.figure(figsize=(15,5))\n",
    "sns.countplot(customer_df['34 Gaining access to loyalty programs is a benefit of shopping online'])\n"
   ]
  },
  {
   "cell_type": "code",
   "execution_count": 96,
   "id": "509355ae",
   "metadata": {},
   "outputs": [
    {
     "data": {
      "text/plain": [
       "<AxesSubplot:xlabel='35 Displaying quality Information on the website improves satisfaction of customers', ylabel='count'>"
      ]
     },
     "execution_count": 96,
     "metadata": {},
     "output_type": "execute_result"
    },
    {
     "data": {
      "image/png": "[encoded data removed]",
      "text/plain": [
       "<Figure size 1080x360 with 1 Axes>"
      ]
     },
     "metadata": {
      "needs_background": "light"
     },
     "output_type": "display_data"
    }
   ],
   "source": [
    "plt.figure(figsize=(15,5))\n",
    "sns.countplot(customer_df['35 Displaying quality Information on the website improves satisfaction of customers'])\n"
   ]
  },
  {
   "cell_type": "code",
   "execution_count": 97,
   "id": "a1ed816c",
   "metadata": {},
   "outputs": [
    {
     "data": {
      "text/plain": [
       "<AxesSubplot:xlabel='37 Net Benefit derived from shopping online can lead to users satisfaction', ylabel='count'>"
      ]
     },
     "execution_count": 97,
     "metadata": {},
     "output_type": "execute_result"
    },
    {
     "data": {
      "image/png": "[encoded data removed]",
      "text/plain": [
       "<Figure size 1080x360 with 1 Axes>"
      ]
     },
     "metadata": {
      "needs_background": "light"
     },
     "output_type": "display_data"
    }
   ],
   "source": [
    "plt.figure(figsize=(15,5))\n",
    "sns.countplot(customer_df['37 Net Benefit derived from shopping online can lead to users satisfaction'])\n"
   ]
  },
  {
   "cell_type": "code",
   "execution_count": 98,
   "id": "016fbcd3",
   "metadata": {},
   "outputs": [
    {
     "data": {
      "text/plain": [
       "<AxesSubplot:xlabel='38 User satisfaction cannot exist without trust', ylabel='count'>"
      ]
     },
     "execution_count": 98,
     "metadata": {},
     "output_type": "execute_result"
    },
    {
     "data": {
      "image/png": "[encoded data removed]",
      "text/plain": [
       "<Figure size 1080x360 with 1 Axes>"
      ]
     },
     "metadata": {
      "needs_background": "light"
     },
     "output_type": "display_data"
    }
   ],
   "source": [
    "\n",
    "plt.figure(figsize=(15,5))\n",
    "sns.countplot(customer_df['38 User satisfaction cannot exist without trust'])\n"
   ]
  },
  {
   "cell_type": "code",
   "execution_count": 99,
   "id": "d426af9a",
   "metadata": {},
   "outputs": [
    {
     "data": {
      "text/plain": [
       "<AxesSubplot:xlabel='39 Offering a wide variety of listed product in several category', ylabel='count'>"
      ]
     },
     "execution_count": 99,
     "metadata": {},
     "output_type": "execute_result"
    },
    {
     "data": {
      "image/png": "[encoded data removed]",
      "text/plain": [
       "<Figure size 1080x360 with 1 Axes>"
      ]
     },
     "metadata": {
      "needs_background": "light"
     },
     "output_type": "display_data"
    }
   ],
   "source": [
    "plt.figure(figsize=(15,5))\n",
    "sns.countplot(customer_df['39 Offering a wide variety of listed product in several category'])"
   ]
  },
  {
   "cell_type": "code",
   "execution_count": 100,
   "id": "ce07b66e",
   "metadata": {},
   "outputs": [
    {
     "data": {
      "text/plain": [
       "<AxesSubplot:xlabel='40 Provision of complete and relevant product information', ylabel='count'>"
      ]
     },
     "execution_count": 100,
     "metadata": {},
     "output_type": "execute_result"
    },
    {
     "data": {
      "image/png": "[encoded data removed]",
      "text/plain": [
       "<Figure size 1080x360 with 1 Axes>"
      ]
     },
     "metadata": {
      "needs_background": "light"
     },
     "output_type": "display_data"
    }
   ],
   "source": [
    "plt.figure(figsize=(15,5))\n",
    "sns.countplot(customer_df['40 Provision of complete and relevant product information'])"
   ]
  },
  {
   "cell_type": "code",
   "execution_count": 101,
   "id": "c29b2d56",
   "metadata": {},
   "outputs": [
    {
     "data": {
      "text/plain": [
       "<AxesSubplot:xlabel='40 Provision of complete and relevant product information', ylabel='count'>"
      ]
     },
     "execution_count": 101,
     "metadata": {},
     "output_type": "execute_result"
    },
    {
     "data": {
      "image/png": "[encoded data removed]",
      "text/plain": [
       "<Figure size 1080x360 with 1 Axes>"
      ]
     },
     "metadata": {
      "needs_background": "light"
     },
     "output_type": "display_data"
    }
   ],
   "source": [
    "plt.figure(figsize=(15,5))\n",
    "sns.countplot(customer_df['40 Provision of complete and relevant product information'])"
   ]
  },
  {
   "cell_type": "code",
   "execution_count": 102,
   "id": "5d805d5e",
   "metadata": {},
   "outputs": [
    {
     "data": {
      "text/plain": [
       "<AxesSubplot:xlabel='41 Monetary savings', ylabel='count'>"
      ]
     },
     "execution_count": 102,
     "metadata": {},
     "output_type": "execute_result"
    },
    {
     "data": {
      "image/png": "[encoded data removed]",
      "text/plain": [
       "<Figure size 1080x360 with 1 Axes>"
      ]
     },
     "metadata": {
      "needs_background": "light"
     },
     "output_type": "display_data"
    }
   ],
   "source": [
    "plt.figure(figsize=(15,5))\n",
    "sns.countplot(customer_df['41 Monetary savings'])"
   ]
  },
  {
   "cell_type": "code",
   "execution_count": 103,
   "id": "24785368",
   "metadata": {},
   "outputs": [
    {
     "data": {
      "text/plain": [
       "<AxesSubplot:xlabel='44 Shopping on your preferred e-tailer enhances your social status', ylabel='count'>"
      ]
     },
     "execution_count": 103,
     "metadata": {},
     "output_type": "execute_result"
    },
    {
     "data": {
      "image/png": "[encoded data removed]",
      "text/plain": [
       "<Figure size 1080x360 with 1 Axes>"
      ]
     },
     "metadata": {
      "needs_background": "light"
     },
     "output_type": "display_data"
    }
   ],
   "source": [
    "plt.figure(figsize=(15,5))\n",
    "sns.countplot(customer_df['44 Shopping on your preferred e-tailer enhances your social status'])\n"
   ]
  },
  {
   "cell_type": "code",
   "execution_count": 104,
   "id": "91f2c90d",
   "metadata": {},
   "outputs": [
    {
     "data": {
      "text/plain": [
       "<AxesSubplot:xlabel='46 Shopping on the website helps you fulfill certain roles', ylabel='count'>"
      ]
     },
     "execution_count": 104,
     "metadata": {},
     "output_type": "execute_result"
    },
    {
     "data": {
      "image/png": "[encoded data removed]",
      "text/plain": [
       "<Figure size 1080x360 with 1 Axes>"
      ]
     },
     "metadata": {
      "needs_background": "light"
     },
     "output_type": "display_data"
    }
   ],
   "source": [
    "plt.figure(figsize=(15,5))\n",
    "sns.countplot(customer_df['46 Shopping on the website helps you fulfill certain roles'])\n"
   ]
  },
  {
   "cell_type": "code",
   "execution_count": 105,
   "id": "23f1e507",
   "metadata": {},
   "outputs": [
    {
     "data": {
      "text/plain": [
       "<AxesSubplot:xlabel='47 Getting value for money spent', ylabel='count'>"
      ]
     },
     "execution_count": 105,
     "metadata": {},
     "output_type": "execute_result"
    },
    {
     "data": {
      "image/png": "[encoded data removed]",
      "text/plain": [
       "<Figure size 1080x360 with 1 Axes>"
      ]
     },
     "metadata": {
      "needs_background": "light"
     },
     "output_type": "display_data"
    }
   ],
   "source": [
    "plt.figure(figsize=(15,5))\n",
    "sns.countplot(customer_df['47 Getting value for money spent'])\n"
   ]
  },
  {
   "cell_type": "code",
   "execution_count": 111,
   "id": "9b5950be",
   "metadata": {},
   "outputs": [
    {
     "data": {
      "text/plain": [
       "<AxesSubplot:xlabel='Easy to use website or application', ylabel='count'>"
      ]
     },
     "execution_count": 111,
     "metadata": {},
     "output_type": "execute_result"
    },
    {
     "data": {
      "image/png": "[encoded data removed]",
      "text/plain": [
       "<Figure size 1440x360 with 1 Axes>"
      ]
     },
     "metadata": {
      "needs_background": "light"
     },
     "output_type": "display_data"
    }
   ],
   "source": [
    "plt.figure(figsize=(20,5))\n",
    "sns.countplot(customer_df['Easy to use website or application'])\n",
    "\n"
   ]
  },
  {
   "cell_type": "code",
   "execution_count": 118,
   "id": "0d4a7ba3",
   "metadata": {},
   "outputs": [
    {
     "data": {
      "text/plain": [
       "Easy to use website or application                            18 The content on the website must be easy to read and understand\n",
       "Amazon.in                                                     Agree (4)                                                            13\n",
       "                                                              Strongly agree (5)                                                   16\n",
       "Amazon.in, Flipkart.com                                       Agree (4)                                                            19\n",
       "                                                              Indifferent (3)                                                       7\n",
       "                                                              Strongly disagree (1)                                                18\n",
       "Amazon.in, Flipkart.com, Myntra.com                           Strongly agree (5)                                                   19\n",
       "Amazon.in, Flipkart.com, Myntra.com, Snapdeal.com             Strongly agree (5)                                                   44\n",
       "Amazon.in, Flipkart.com, Paytm.com, Myntra.com, Snapdeal.com  Agree (4)                                                            25\n",
       "                                                              Strongly agree (5)                                                   39\n",
       "Amazon.in, Flipkart.com, Paytm.com, Snapdeal.com              Agree (4)                                                            11\n",
       "                                                              Strongly agree (5)                                                   11\n",
       "Amazon.in, Paytm.com                                          Strongly agree (5)                                                    7\n",
       "Amazon.in, Paytm.com, Myntra.com                              Strongly agree (5)                                                   20\n",
       "Flipkart.com                                                  Strongly agree (5)                                                    8\n",
       "Paytm.com                                                     Agree (4)                                                            12\n",
       "dtype: int64"
      ]
     },
     "execution_count": 118,
     "metadata": {},
     "output_type": "execute_result"
    }
   ],
   "source": [
    "customer_df.groupby(['Easy to use website or application','18 The content on the website must be easy to read and understand']).size()"
   ]
  },
  {
   "cell_type": "markdown",
   "id": "12e994e6",
   "metadata": {},
   "source": [
    "# Observation\n",
    "\n",
    "1. Most pepole are strongly belie that Amazon.in, Flipkart.com, Myntra.com, Snapdeal.com's content on the website are easy to read and understand"
   ]
  },
  {
   "cell_type": "code",
   "execution_count": 121,
   "id": "0deca0d0",
   "metadata": {},
   "outputs": [
    {
     "data": {
      "text/plain": [
       "<AxesSubplot:xlabel='Wild variety of product on offer', ylabel='count'>"
      ]
     },
     "execution_count": 121,
     "metadata": {},
     "output_type": "execute_result"
    },
    {
     "data": {
      "image/png": "[encoded data removed]",
      "text/plain": [
       "<Figure size 2160x360 with 1 Axes>"
      ]
     },
     "metadata": {
      "needs_background": "light"
     },
     "output_type": "display_data"
    }
   ],
   "source": [
    "plt.figure(figsize=(30,5))\n",
    "sns.countplot(customer_df['Wild variety of product on offer'])"
   ]
  },
  {
   "cell_type": "markdown",
   "id": "4968d4ef",
   "metadata": {},
   "source": [
    "# Observation\n",
    "\n",
    "1.Most pepole belive that wild variety of product on offer are available on Amazon and flipcart\n",
    "2.Paytm has least variety of product"
   ]
  },
  {
   "cell_type": "code",
   "execution_count": 122,
   "id": "e3d0e22a",
   "metadata": {
    "scrolled": true
   },
   "outputs": [
    {
     "data": {
      "text/plain": [
       "Complete, relevant description information of products        21 All relevant information on listed products must be stated clearly\n",
       "Amazon.in                                                     Agree (4)                                                                16\n",
       "                                                              Strongly agree (5)                                                       27\n",
       "Amazon.in, Flipkart.com                                       Agree (4)                                                                44\n",
       "                                                              Dis-agree (2)                                                            12\n",
       "                                                              Strongly agree (5)                                                       26\n",
       "                                                              Strongly disagree (1)                                                    18\n",
       "Amazon.in, Flipkart.com, Myntra.com                           Strongly agree (5)                                                       15\n",
       "Amazon.in, Flipkart.com, Myntra.com, Snapdeal.com             Agree (4)                                                                14\n",
       "Amazon.in, Flipkart.com, Paytm.com                            Strongly agree (5)                                                       24\n",
       "Amazon.in, Flipkart.com, Paytm.com, Myntra.com, Snapdeal.com  Agree (4)                                                                15\n",
       "Amazon.in, Flipkart.com, Snapdeal.com                         Strongly agree (5)                                                        7\n",
       "Amazon.in, Paytm.com, Myntra.com                              Agree (4)                                                                20\n",
       "Flipkart.com                                                  Strongly agree (5)                                                        8\n",
       "Flipkart.com, Snapdeal.com                                    Agree (4)                                                                11\n",
       "Snapdeal.com                                                  Agree (4)                                                                12\n",
       "dtype: int64"
      ]
     },
     "execution_count": 122,
     "metadata": {},
     "output_type": "execute_result"
    }
   ],
   "source": [
    "customer_df.groupby(['Complete, relevant description information of products','21 All relevant information on listed products must be stated clearly']).size()"
   ]
  },
  {
   "cell_type": "markdown",
   "id": "be99577a",
   "metadata": {},
   "source": [
    "# Observation\n",
    "\n",
    "1.most of pepole agree that flipcart and amazon provide compelete information releted to product"
   ]
  },
  {
   "cell_type": "code",
   "execution_count": 124,
   "id": "2d9bd46f",
   "metadata": {},
   "outputs": [
    {
     "data": {
      "text/plain": [
       "Fast loading website speed of website and application\n",
       "Amazon.in                                                       51\n",
       "Amazon.in, Flipkart.com                                         30\n",
       "Amazon.in, Flipkart.com, Myntra.com                             30\n",
       "Amazon.in, Flipkart.com, Myntra.com, Snapdeal.com               14\n",
       "Amazon.in, Flipkart.com, Paytm.com                              25\n",
       "Amazon.in, Flipkart.com, Paytm.com, Myntra.com, Snapdeal.com    30\n",
       "Amazon.in, Flipkart.com, Snapdeal.com                           25\n",
       "Amazon.in, Paytm.com                                            44\n",
       "Flipkart.com                                                     8\n",
       "Snapdeal.com                                                    12\n",
       "dtype: int64"
      ]
     },
     "execution_count": 124,
     "metadata": {},
     "output_type": "execute_result"
    }
   ],
   "source": [
    "customer_df.groupby(['Fast loading website speed of website and application']).size()\n"
   ]
  },
  {
   "cell_type": "markdown",
   "id": "51ee880d",
   "metadata": {},
   "source": [
    "# Observation\n",
    "\n",
    "1.most of pepole vote for Amazon as the fast loading website.\n",
    "2.Snapdeal is take more time to load."
   ]
  },
  {
   "cell_type": "code",
   "execution_count": 125,
   "id": "37801079",
   "metadata": {},
   "outputs": [
    {
     "data": {
      "text/plain": [
       "Availability of several payment options                       25 Convenient Payment methods\n",
       "Amazon.in                                                     Agree (4)                        15\n",
       "                                                              Strongly agree (5)                8\n",
       "Amazon.in, Flipkart.com                                       Agree (4)                        24\n",
       "                                                              Dis-agree (2)                    18\n",
       "                                                              Strongly agree (5)               23\n",
       "Amazon.in, Flipkart.com, Myntra.com                           Strongly agree (5)               40\n",
       "Amazon.in, Flipkart.com, Myntra.com, Snapdeal.com             Agree (4)                        19\n",
       "Amazon.in, Flipkart.com, Patym.com, Myntra.com, Snapdeal.com  Strongly agree (5)               39\n",
       "Amazon.in, Flipkart.com, Snapdeal.com                         Agree (4)                        11\n",
       "                                                              Strongly agree (5)                7\n",
       "Amazon.in, Patym.com                                          Agree (4)                        11\n",
       "Flipkart.com                                                  Strongly agree (5)                8\n",
       "Flipkart.com, Myntra.com, Snapdeal.com                        Strongly agree (5)               14\n",
       "Patym.com                                                     Dis-agree (2)                    12\n",
       "Patym.com, Myntra.com                                         Strongly agree (5)               20\n",
       "dtype: int64"
      ]
     },
     "execution_count": 125,
     "metadata": {},
     "output_type": "execute_result"
    }
   ],
   "source": [
    "customer_df.groupby(['Availability of several payment options','25 Convenient Payment methods']).size()"
   ]
  },
  {
   "cell_type": "markdown",
   "id": "8651fd35",
   "metadata": {},
   "source": [
    "# Observation\n",
    "\n",
    "1.Most pepole are agree on that amazon,flipcart and myntra provide various payment method\n",
    "2.Snapdeal is take more time to load."
   ]
  },
  {
   "cell_type": "code",
   "execution_count": 130,
   "id": "71d0d729",
   "metadata": {},
   "outputs": [
    {
     "data": {
      "text/plain": [
       "Speedy order delivery \n",
       "Amazon.in                                 107\n",
       "Amazon.in, Flipkart.com                    82\n",
       "Amazon.in, Flipkart.com, Myntra.com        15\n",
       "Amazon.in, Flipkart.com, Snapdeal.com      36\n",
       "Flipkart.com                               15\n",
       "Flipkart.com, Myntra.com, Snapdeal.com     14\n",
       "dtype: int64"
      ]
     },
     "execution_count": 130,
     "metadata": {},
     "output_type": "execute_result"
    }
   ],
   "source": [
    "customer_df.groupby(['Speedy order delivery ',]).size()\n"
   ]
  },
  {
   "cell_type": "markdown",
   "id": "9977f226",
   "metadata": {},
   "source": [
    "# Observation\n",
    "\n",
    "1.most customer belive that amazon provide the fastest delivery"
   ]
  },
  {
   "cell_type": "code",
   "execution_count": 134,
   "id": "ab64aa37",
   "metadata": {},
   "outputs": [
    {
     "data": {
      "text/plain": [
       "Privacy of customers’ information\n",
       "Amazon.in                                                       71\n",
       "Amazon.in, Flipkart.com                                         54\n",
       "Amazon.in, Flipkart.com, Myntra.com                             25\n",
       "Amazon.in, Flipkart.com, Myntra.com, Snapdeal.com               14\n",
       "Amazon.in, Flipkart.com, Paytm.com                              11\n",
       "Amazon.in, Flipkart.com, Paytm.com, Myntra.com, Snapdeal.com    24\n",
       "Amazon.in, Flipkart.com, Snapdeal.com                            7\n",
       "Amazon.in, Paytm.com                                            15\n",
       "Flipkart.com                                                    15\n",
       "Myntra.com                                                      15\n",
       "Paytm.com                                                       18\n",
       "dtype: int64"
      ]
     },
     "execution_count": 134,
     "metadata": {},
     "output_type": "execute_result"
    }
   ],
   "source": [
    "customer_df.groupby(['Privacy of customers’ information']).size()"
   ]
  },
  {
   "cell_type": "code",
   "execution_count": 135,
   "id": "6e17d53c",
   "metadata": {},
   "outputs": [
    {
     "data": {
      "text/plain": [
       "28 Being able to guarantee the privacy of the customer\n",
       "Agree (4)              58\n",
       "Strongly agree (5)    185\n",
       "indifferent (3)        26\n",
       "dtype: int64"
      ]
     },
     "execution_count": 135,
     "metadata": {},
     "output_type": "execute_result"
    }
   ],
   "source": [
    "customer_df.groupby(['28 Being able to guarantee the privacy of the customer']).size()"
   ]
  },
  {
   "cell_type": "markdown",
   "id": "b76e788e",
   "metadata": {},
   "source": [
    "# Observation\n",
    "\n",
    "1.Mejor customer are strongly agree that online shopping must guarantee about thir privacy\n",
    "2.most of online user belive that amzon give provide privacy to customer"
   ]
  },
  {
   "cell_type": "code",
   "execution_count": 139,
   "id": "2facf6be",
   "metadata": {},
   "outputs": [
    {
     "data": {
      "text/plain": [
       "Longer time in displaying graphics and photos (promotion, sales period)\n",
       "Amazon.in                              39\n",
       "Amazon.in, Flipkart.com                60\n",
       "Amazon.in, Myntra.com, Snapdeal.com    14\n",
       "Amazon.in, Paytm.com                   13\n",
       "Flipkart.com                           15\n",
       "Flipkart.com, Snapdeal.com             19\n",
       "Myntra.com                             35\n",
       "Myntra.com, Snapdeal.com               25\n",
       "Paytm.com                              15\n",
       "Snapdeal.com                           34\n",
       "dtype: int64"
      ]
     },
     "execution_count": 139,
     "metadata": {},
     "output_type": "execute_result"
    }
   ],
   "source": [
    "customer_df.groupby(['Longer time in displaying graphics and photos (promotion, sales period)']).size()"
   ]
  },
  {
   "cell_type": "markdown",
   "id": "502867e0",
   "metadata": {},
   "source": [
    "# Observation\n",
    "\n",
    "1.most customer experience that amazon and flipcart take longer time to loading graphics and photos"
   ]
  },
  {
   "cell_type": "code",
   "execution_count": 140,
   "id": "3278bf19",
   "metadata": {},
   "outputs": [
    {
     "data": {
      "text/plain": [
       "Which of the Indian online retailer would you recommend to a friend?\n",
       "Amazon.in                                            79\n",
       "Amazon.in, Flipkart.com                              62\n",
       "Amazon.in, Flipkart.com, Myntra.com                  15\n",
       "Amazon.in, Myntra.com                                30\n",
       "Amazon.in, Paytm.com                                 13\n",
       "Amazon.in, Paytm.com, Myntra.com                     20\n",
       "Flipkart.com                                         39\n",
       "Flipkart.com, Paytm.com, Myntra.com, snapdeal.com    11\n",
       "dtype: int64"
      ]
     },
     "execution_count": 140,
     "metadata": {},
     "output_type": "execute_result"
    }
   ],
   "source": [
    "customer_df.groupby(['Which of the Indian online retailer would you recommend to a friend?']).size()"
   ]
  },
  {
   "cell_type": "markdown",
   "id": "576d3bf2",
   "metadata": {},
   "source": [
    "# Observation\n",
    "\n",
    "1.Most customer recommend amazon and flipcart to other user for onlin shopping"
   ]
  }
 ],
 "metadata": {
  "kernelspec": {
   "display_name": "Python 3 (ipykernel)",
   "language": "python",
   "name": "python3"
  },
  "language_info": {
   "codemirror_mode": {
    "name": "ipython",
    "version": 3
   },
   "file_extension": ".py",
   "mimetype": "text/x-python",
   "name": "python",
   "nbconvert_exporter": "python",
   "pygments_lexer": "ipython3",
   "version": "3.9.7"
  }
 },
 "nbformat": 4,
 "nbformat_minor": 5
}
